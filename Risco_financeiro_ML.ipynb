{
  "nbformat": 4,
  "nbformat_minor": 0,
  "metadata": {
    "colab": {
      "name": "Risco_financeiro_ML",
      "provenance": [],
      "collapsed_sections": []
    },
    "kernelspec": {
      "name": "python3",
      "display_name": "Python 3"
    },
    "language_info": {
      "name": "python"
    },
    "widgets": {
      "application/vnd.jupyter.widget-state+json": {
        "dcc1abe643bf445791912eba0005e442": {
          "model_module": "@jupyter-widgets/controls",
          "model_name": "HBoxModel",
          "model_module_version": "1.5.0",
          "state": {
            "_view_name": "HBoxView",
            "_dom_classes": [],
            "_model_name": "HBoxModel",
            "_view_module": "@jupyter-widgets/controls",
            "_model_module_version": "1.5.0",
            "_view_count": null,
            "_view_module_version": "1.5.0",
            "box_style": "",
            "layout": "IPY_MODEL_8e6a65d440c64af384675ab63efb1c56",
            "_model_module": "@jupyter-widgets/controls",
            "children": [
              "IPY_MODEL_0493d987e45c4166856f0c08f9eeaabb",
              "IPY_MODEL_b087ce6e93fa42f2afc02f14d3787c5f",
              "IPY_MODEL_7beb87e1a8734ff085b1f5ba73d46cf3"
            ]
          }
        },
        "8e6a65d440c64af384675ab63efb1c56": {
          "model_module": "@jupyter-widgets/base",
          "model_name": "LayoutModel",
          "model_module_version": "1.2.0",
          "state": {
            "_view_name": "LayoutView",
            "grid_template_rows": null,
            "right": null,
            "justify_content": null,
            "_view_module": "@jupyter-widgets/base",
            "overflow": null,
            "_model_module_version": "1.2.0",
            "_view_count": null,
            "flex_flow": "row wrap",
            "width": "100%",
            "min_width": null,
            "border": null,
            "align_items": null,
            "bottom": null,
            "_model_module": "@jupyter-widgets/base",
            "top": null,
            "grid_column": null,
            "overflow_y": null,
            "overflow_x": null,
            "grid_auto_flow": null,
            "grid_area": null,
            "grid_template_columns": null,
            "flex": null,
            "_model_name": "LayoutModel",
            "justify_items": null,
            "grid_row": null,
            "max_height": null,
            "align_content": null,
            "visibility": null,
            "align_self": null,
            "height": null,
            "min_height": null,
            "padding": null,
            "grid_auto_rows": null,
            "grid_gap": null,
            "max_width": null,
            "order": null,
            "_view_module_version": "1.2.0",
            "grid_template_areas": null,
            "object_position": null,
            "object_fit": null,
            "grid_auto_columns": null,
            "margin": null,
            "display": "inline-flex",
            "left": null
          }
        },
        "0493d987e45c4166856f0c08f9eeaabb": {
          "model_module": "@jupyter-widgets/controls",
          "model_name": "HTMLModel",
          "model_module_version": "1.5.0",
          "state": {
            "_view_name": "HTMLView",
            "style": "IPY_MODEL_749cc4e1fa9c486a9eaba4649f908519",
            "_dom_classes": [],
            "description": "",
            "_model_name": "HTMLModel",
            "placeholder": "​",
            "_view_module": "@jupyter-widgets/controls",
            "_model_module_version": "1.5.0",
            "value": "Done! Use &#x27;show&#x27; commands to display/save.   ",
            "_view_count": null,
            "_view_module_version": "1.5.0",
            "description_tooltip": null,
            "_model_module": "@jupyter-widgets/controls",
            "layout": "IPY_MODEL_f1ef954c308e4e28941f389b74bb3b89"
          }
        },
        "b087ce6e93fa42f2afc02f14d3787c5f": {
          "model_module": "@jupyter-widgets/controls",
          "model_name": "FloatProgressModel",
          "model_module_version": "1.5.0",
          "state": {
            "_view_name": "ProgressView",
            "style": "IPY_MODEL_d8c73ae52d164bb898cf255368676c3d",
            "_dom_classes": [],
            "description": "",
            "_model_name": "FloatProgressModel",
            "bar_style": "success",
            "max": 1,
            "_view_module": "@jupyter-widgets/controls",
            "_model_module_version": "1.5.0",
            "value": 1,
            "_view_count": null,
            "_view_module_version": "1.5.0",
            "orientation": "horizontal",
            "min": 0,
            "description_tooltip": null,
            "_model_module": "@jupyter-widgets/controls",
            "layout": "IPY_MODEL_e85aeae6a51e452d8df8d52a624001cf"
          }
        },
        "7beb87e1a8734ff085b1f5ba73d46cf3": {
          "model_module": "@jupyter-widgets/controls",
          "model_name": "HTMLModel",
          "model_module_version": "1.5.0",
          "state": {
            "_view_name": "HTMLView",
            "style": "IPY_MODEL_e3b13daf9ec741039ca3ba76514eef1f",
            "_dom_classes": [],
            "description": "",
            "_model_name": "HTMLModel",
            "placeholder": "​",
            "_view_module": "@jupyter-widgets/controls",
            "_model_module_version": "1.5.0",
            "value": " [100%]   00:00 -&gt; (00:00 left)",
            "_view_count": null,
            "_view_module_version": "1.5.0",
            "description_tooltip": null,
            "_model_module": "@jupyter-widgets/controls",
            "layout": "IPY_MODEL_38abf64c85c54ac5985044879909aa64"
          }
        },
        "749cc4e1fa9c486a9eaba4649f908519": {
          "model_module": "@jupyter-widgets/controls",
          "model_name": "DescriptionStyleModel",
          "model_module_version": "1.5.0",
          "state": {
            "_view_name": "StyleView",
            "_model_name": "DescriptionStyleModel",
            "description_width": "",
            "_view_module": "@jupyter-widgets/base",
            "_model_module_version": "1.5.0",
            "_view_count": null,
            "_view_module_version": "1.2.0",
            "_model_module": "@jupyter-widgets/controls"
          }
        },
        "f1ef954c308e4e28941f389b74bb3b89": {
          "model_module": "@jupyter-widgets/base",
          "model_name": "LayoutModel",
          "model_module_version": "1.2.0",
          "state": {
            "_view_name": "LayoutView",
            "grid_template_rows": null,
            "right": null,
            "justify_content": null,
            "_view_module": "@jupyter-widgets/base",
            "overflow": null,
            "_model_module_version": "1.2.0",
            "_view_count": null,
            "flex_flow": null,
            "width": null,
            "min_width": null,
            "border": null,
            "align_items": null,
            "bottom": null,
            "_model_module": "@jupyter-widgets/base",
            "top": null,
            "grid_column": null,
            "overflow_y": null,
            "overflow_x": null,
            "grid_auto_flow": null,
            "grid_area": null,
            "grid_template_columns": null,
            "flex": null,
            "_model_name": "LayoutModel",
            "justify_items": null,
            "grid_row": null,
            "max_height": null,
            "align_content": null,
            "visibility": null,
            "align_self": null,
            "height": null,
            "min_height": null,
            "padding": null,
            "grid_auto_rows": null,
            "grid_gap": null,
            "max_width": null,
            "order": null,
            "_view_module_version": "1.2.0",
            "grid_template_areas": null,
            "object_position": null,
            "object_fit": null,
            "grid_auto_columns": null,
            "margin": null,
            "display": null,
            "left": null
          }
        },
        "d8c73ae52d164bb898cf255368676c3d": {
          "model_module": "@jupyter-widgets/controls",
          "model_name": "ProgressStyleModel",
          "model_module_version": "1.5.0",
          "state": {
            "_view_name": "StyleView",
            "_model_name": "ProgressStyleModel",
            "description_width": "",
            "_view_module": "@jupyter-widgets/base",
            "_model_module_version": "1.5.0",
            "_view_count": null,
            "_view_module_version": "1.2.0",
            "bar_color": null,
            "_model_module": "@jupyter-widgets/controls"
          }
        },
        "e85aeae6a51e452d8df8d52a624001cf": {
          "model_module": "@jupyter-widgets/base",
          "model_name": "LayoutModel",
          "model_module_version": "1.2.0",
          "state": {
            "_view_name": "LayoutView",
            "grid_template_rows": null,
            "right": null,
            "justify_content": null,
            "_view_module": "@jupyter-widgets/base",
            "overflow": null,
            "_model_module_version": "1.2.0",
            "_view_count": null,
            "flex_flow": null,
            "width": null,
            "min_width": null,
            "border": null,
            "align_items": null,
            "bottom": null,
            "_model_module": "@jupyter-widgets/base",
            "top": null,
            "grid_column": null,
            "overflow_y": null,
            "overflow_x": null,
            "grid_auto_flow": null,
            "grid_area": null,
            "grid_template_columns": null,
            "flex": "2",
            "_model_name": "LayoutModel",
            "justify_items": null,
            "grid_row": null,
            "max_height": null,
            "align_content": null,
            "visibility": null,
            "align_self": null,
            "height": null,
            "min_height": null,
            "padding": null,
            "grid_auto_rows": null,
            "grid_gap": null,
            "max_width": null,
            "order": null,
            "_view_module_version": "1.2.0",
            "grid_template_areas": null,
            "object_position": null,
            "object_fit": null,
            "grid_auto_columns": null,
            "margin": null,
            "display": null,
            "left": null
          }
        },
        "e3b13daf9ec741039ca3ba76514eef1f": {
          "model_module": "@jupyter-widgets/controls",
          "model_name": "DescriptionStyleModel",
          "model_module_version": "1.5.0",
          "state": {
            "_view_name": "StyleView",
            "_model_name": "DescriptionStyleModel",
            "description_width": "",
            "_view_module": "@jupyter-widgets/base",
            "_model_module_version": "1.5.0",
            "_view_count": null,
            "_view_module_version": "1.2.0",
            "_model_module": "@jupyter-widgets/controls"
          }
        },
        "38abf64c85c54ac5985044879909aa64": {
          "model_module": "@jupyter-widgets/base",
          "model_name": "LayoutModel",
          "model_module_version": "1.2.0",
          "state": {
            "_view_name": "LayoutView",
            "grid_template_rows": null,
            "right": null,
            "justify_content": null,
            "_view_module": "@jupyter-widgets/base",
            "overflow": null,
            "_model_module_version": "1.2.0",
            "_view_count": null,
            "flex_flow": null,
            "width": null,
            "min_width": null,
            "border": null,
            "align_items": null,
            "bottom": null,
            "_model_module": "@jupyter-widgets/base",
            "top": null,
            "grid_column": null,
            "overflow_y": null,
            "overflow_x": null,
            "grid_auto_flow": null,
            "grid_area": null,
            "grid_template_columns": null,
            "flex": null,
            "_model_name": "LayoutModel",
            "justify_items": null,
            "grid_row": null,
            "max_height": null,
            "align_content": null,
            "visibility": null,
            "align_self": null,
            "height": null,
            "min_height": null,
            "padding": null,
            "grid_auto_rows": null,
            "grid_gap": null,
            "max_width": null,
            "order": null,
            "_view_module_version": "1.2.0",
            "grid_template_areas": null,
            "object_position": null,
            "object_fit": null,
            "grid_auto_columns": null,
            "margin": null,
            "display": null,
            "left": null
          }
        }
      }
    }
  },
  "cells": [
    {
      "cell_type": "code",
      "metadata": {
        "id": "Isz6i7aPFtV1",
        "colab": {
          "base_uri": "https://localhost:8080/"
        },
        "outputId": "54ac6bc4-1988-4409-a07b-87a222e6894e"
      },
      "source": [
        "# Para manipulacao dos dados\n",
        "import pandas as pd\n",
        "import numpy as np\n",
        "\n",
        "# para graficos\n",
        "import seaborn as sns\n",
        "import matplotlib.pyplot as plt\n",
        "!pip install sweetviz\n",
        "import sweetviz as sv\n",
        "\n",
        "\n",
        "# para modelagem\n",
        "from sklearn.model_selection import train_test_split, GridSearchCV, ParameterGrid, KFold\n",
        "from sklearn.metrics import roc_auc_score\n",
        "from sklearn.preprocessing import StandardScaler\n",
        "from sklearn.pipeline import Pipeline\n",
        "from sklearn.ensemble import RandomForestClassifier\n",
        "from sklearn.preprocessing import LabelEncoder\n",
        "\n",
        "\n",
        "#### Settings ####\n",
        "pd.set_option(\"max_colwidth\", 1000)\n",
        "pd.set_option(\"max_rows\", 20)\n",
        "pd.set_option(\"max_columns\", 1000)\n",
        "pd.set_option(\"precision\", 2)\n",
        "pd.options.display.float_format = \"{:,.2f}\".format\n",
        "plt.style.use(\"classic\")\n",
        "# %load_ext nb_black"
      ],
      "execution_count": null,
      "outputs": [
        {
          "output_type": "stream",
          "name": "stdout",
          "text": [
            "Collecting sweetviz\n",
            "  Downloading sweetviz-2.1.3-py3-none-any.whl (15.1 MB)\n",
            "\u001b[K     |████████████████████████████████| 15.1 MB 5.1 MB/s \n",
            "\u001b[?25hRequirement already satisfied: jinja2>=2.11.1 in /usr/local/lib/python3.7/dist-packages (from sweetviz) (2.11.3)\n",
            "Requirement already satisfied: pandas!=1.0.0,!=1.0.1,!=1.0.2,>=0.25.3 in /usr/local/lib/python3.7/dist-packages (from sweetviz) (1.1.5)\n",
            "Requirement already satisfied: scipy>=1.3.2 in /usr/local/lib/python3.7/dist-packages (from sweetviz) (1.4.1)\n",
            "Requirement already satisfied: tqdm>=4.43.0 in /usr/local/lib/python3.7/dist-packages (from sweetviz) (4.62.3)\n",
            "Requirement already satisfied: matplotlib>=3.1.3 in /usr/local/lib/python3.7/dist-packages (from sweetviz) (3.2.2)\n",
            "Requirement already satisfied: numpy>=1.16.0 in /usr/local/lib/python3.7/dist-packages (from sweetviz) (1.19.5)\n",
            "Requirement already satisfied: importlib-resources>=1.2.0 in /usr/local/lib/python3.7/dist-packages (from sweetviz) (5.4.0)\n",
            "Requirement already satisfied: zipp>=3.1.0 in /usr/local/lib/python3.7/dist-packages (from importlib-resources>=1.2.0->sweetviz) (3.6.0)\n",
            "Requirement already satisfied: MarkupSafe>=0.23 in /usr/local/lib/python3.7/dist-packages (from jinja2>=2.11.1->sweetviz) (2.0.1)\n",
            "Requirement already satisfied: pyparsing!=2.0.4,!=2.1.2,!=2.1.6,>=2.0.1 in /usr/local/lib/python3.7/dist-packages (from matplotlib>=3.1.3->sweetviz) (3.0.6)\n",
            "Requirement already satisfied: cycler>=0.10 in /usr/local/lib/python3.7/dist-packages (from matplotlib>=3.1.3->sweetviz) (0.11.0)\n",
            "Requirement already satisfied: python-dateutil>=2.1 in /usr/local/lib/python3.7/dist-packages (from matplotlib>=3.1.3->sweetviz) (2.8.2)\n",
            "Requirement already satisfied: kiwisolver>=1.0.1 in /usr/local/lib/python3.7/dist-packages (from matplotlib>=3.1.3->sweetviz) (1.3.2)\n",
            "Requirement already satisfied: pytz>=2017.2 in /usr/local/lib/python3.7/dist-packages (from pandas!=1.0.0,!=1.0.1,!=1.0.2,>=0.25.3->sweetviz) (2018.9)\n",
            "Requirement already satisfied: six>=1.5 in /usr/local/lib/python3.7/dist-packages (from python-dateutil>=2.1->matplotlib>=3.1.3->sweetviz) (1.15.0)\n",
            "Installing collected packages: sweetviz\n",
            "Successfully installed sweetviz-2.1.3\n"
          ]
        }
      ]
    },
    {
      "cell_type": "markdown",
      "metadata": {
        "id": "6GEseHuIF9sO"
      },
      "source": [
        "# **2. PRIMEIRAS IMPRESSÕES**"
      ]
    },
    {
      "cell_type": "code",
      "metadata": {
        "id": "YFbtHAo3GHRa"
      },
      "source": [
        "# Carregar Dataset\n",
        "\n",
        "df = pd.read_csv(\"/content/drive/MyDrive/Colab Notebooks/german_credit_data.csv\", index_col= 0)#, sep=';', decimal= ',' ) "
      ],
      "execution_count": null,
      "outputs": []
    },
    {
      "cell_type": "code",
      "metadata": {
        "colab": {
          "base_uri": "https://localhost:8080/",
          "height": 206
        },
        "id": "jVdKjxGuIFLO",
        "outputId": "a910471c-5101-441b-e9d6-8835bf5c7b93"
      },
      "source": [
        "# Ver as primeiras linhas\n",
        "\n",
        "df.head()"
      ],
      "execution_count": null,
      "outputs": [
        {
          "output_type": "execute_result",
          "data": {
            "text/html": [
              "<div>\n",
              "<style scoped>\n",
              "    .dataframe tbody tr th:only-of-type {\n",
              "        vertical-align: middle;\n",
              "    }\n",
              "\n",
              "    .dataframe tbody tr th {\n",
              "        vertical-align: top;\n",
              "    }\n",
              "\n",
              "    .dataframe thead th {\n",
              "        text-align: right;\n",
              "    }\n",
              "</style>\n",
              "<table border=\"1\" class=\"dataframe\">\n",
              "  <thead>\n",
              "    <tr style=\"text-align: right;\">\n",
              "      <th></th>\n",
              "      <th>Age</th>\n",
              "      <th>Sex</th>\n",
              "      <th>Job</th>\n",
              "      <th>Housing</th>\n",
              "      <th>Saving accounts</th>\n",
              "      <th>Checking account</th>\n",
              "      <th>Credit amount</th>\n",
              "      <th>Duration</th>\n",
              "      <th>Purpose</th>\n",
              "      <th>Risk</th>\n",
              "    </tr>\n",
              "  </thead>\n",
              "  <tbody>\n",
              "    <tr>\n",
              "      <th>0</th>\n",
              "      <td>67</td>\n",
              "      <td>male</td>\n",
              "      <td>2</td>\n",
              "      <td>own</td>\n",
              "      <td>NaN</td>\n",
              "      <td>little</td>\n",
              "      <td>1169</td>\n",
              "      <td>6</td>\n",
              "      <td>radio/TV</td>\n",
              "      <td>good</td>\n",
              "    </tr>\n",
              "    <tr>\n",
              "      <th>1</th>\n",
              "      <td>22</td>\n",
              "      <td>female</td>\n",
              "      <td>2</td>\n",
              "      <td>own</td>\n",
              "      <td>little</td>\n",
              "      <td>moderate</td>\n",
              "      <td>5951</td>\n",
              "      <td>48</td>\n",
              "      <td>radio/TV</td>\n",
              "      <td>bad</td>\n",
              "    </tr>\n",
              "    <tr>\n",
              "      <th>2</th>\n",
              "      <td>49</td>\n",
              "      <td>male</td>\n",
              "      <td>1</td>\n",
              "      <td>own</td>\n",
              "      <td>little</td>\n",
              "      <td>NaN</td>\n",
              "      <td>2096</td>\n",
              "      <td>12</td>\n",
              "      <td>education</td>\n",
              "      <td>good</td>\n",
              "    </tr>\n",
              "    <tr>\n",
              "      <th>3</th>\n",
              "      <td>45</td>\n",
              "      <td>male</td>\n",
              "      <td>2</td>\n",
              "      <td>free</td>\n",
              "      <td>little</td>\n",
              "      <td>little</td>\n",
              "      <td>7882</td>\n",
              "      <td>42</td>\n",
              "      <td>furniture/equipment</td>\n",
              "      <td>good</td>\n",
              "    </tr>\n",
              "    <tr>\n",
              "      <th>4</th>\n",
              "      <td>53</td>\n",
              "      <td>male</td>\n",
              "      <td>2</td>\n",
              "      <td>free</td>\n",
              "      <td>little</td>\n",
              "      <td>little</td>\n",
              "      <td>4870</td>\n",
              "      <td>24</td>\n",
              "      <td>car</td>\n",
              "      <td>bad</td>\n",
              "    </tr>\n",
              "  </tbody>\n",
              "</table>\n",
              "</div>"
            ],
            "text/plain": [
              "   Age     Sex  Job Housing Saving accounts Checking account  Credit amount  \\\n",
              "0   67    male    2     own             NaN           little           1169   \n",
              "1   22  female    2     own          little         moderate           5951   \n",
              "2   49    male    1     own          little              NaN           2096   \n",
              "3   45    male    2    free          little           little           7882   \n",
              "4   53    male    2    free          little           little           4870   \n",
              "\n",
              "   Duration              Purpose  Risk  \n",
              "0         6             radio/TV  good  \n",
              "1        48             radio/TV   bad  \n",
              "2        12            education  good  \n",
              "3        42  furniture/equipment  good  \n",
              "4        24                  car   bad  "
            ]
          },
          "metadata": {},
          "execution_count": 3
        }
      ]
    },
    {
      "cell_type": "code",
      "metadata": {
        "colab": {
          "base_uri": "https://localhost:8080/",
          "height": 206
        },
        "id": "nxywUjc0IIPU",
        "outputId": "65b64a8d-5bc5-4b88-b971-6fcbce6392da"
      },
      "source": [
        "# Ver as ultimas linhas\n",
        "df.tail()"
      ],
      "execution_count": null,
      "outputs": [
        {
          "output_type": "execute_result",
          "data": {
            "text/html": [
              "<div>\n",
              "<style scoped>\n",
              "    .dataframe tbody tr th:only-of-type {\n",
              "        vertical-align: middle;\n",
              "    }\n",
              "\n",
              "    .dataframe tbody tr th {\n",
              "        vertical-align: top;\n",
              "    }\n",
              "\n",
              "    .dataframe thead th {\n",
              "        text-align: right;\n",
              "    }\n",
              "</style>\n",
              "<table border=\"1\" class=\"dataframe\">\n",
              "  <thead>\n",
              "    <tr style=\"text-align: right;\">\n",
              "      <th></th>\n",
              "      <th>Age</th>\n",
              "      <th>Sex</th>\n",
              "      <th>Job</th>\n",
              "      <th>Housing</th>\n",
              "      <th>Saving accounts</th>\n",
              "      <th>Checking account</th>\n",
              "      <th>Credit amount</th>\n",
              "      <th>Duration</th>\n",
              "      <th>Purpose</th>\n",
              "      <th>Risk</th>\n",
              "    </tr>\n",
              "  </thead>\n",
              "  <tbody>\n",
              "    <tr>\n",
              "      <th>995</th>\n",
              "      <td>31</td>\n",
              "      <td>female</td>\n",
              "      <td>1</td>\n",
              "      <td>own</td>\n",
              "      <td>little</td>\n",
              "      <td>NaN</td>\n",
              "      <td>1736</td>\n",
              "      <td>12</td>\n",
              "      <td>furniture/equipment</td>\n",
              "      <td>good</td>\n",
              "    </tr>\n",
              "    <tr>\n",
              "      <th>996</th>\n",
              "      <td>40</td>\n",
              "      <td>male</td>\n",
              "      <td>3</td>\n",
              "      <td>own</td>\n",
              "      <td>little</td>\n",
              "      <td>little</td>\n",
              "      <td>3857</td>\n",
              "      <td>30</td>\n",
              "      <td>car</td>\n",
              "      <td>good</td>\n",
              "    </tr>\n",
              "    <tr>\n",
              "      <th>997</th>\n",
              "      <td>38</td>\n",
              "      <td>male</td>\n",
              "      <td>2</td>\n",
              "      <td>own</td>\n",
              "      <td>little</td>\n",
              "      <td>NaN</td>\n",
              "      <td>804</td>\n",
              "      <td>12</td>\n",
              "      <td>radio/TV</td>\n",
              "      <td>good</td>\n",
              "    </tr>\n",
              "    <tr>\n",
              "      <th>998</th>\n",
              "      <td>23</td>\n",
              "      <td>male</td>\n",
              "      <td>2</td>\n",
              "      <td>free</td>\n",
              "      <td>little</td>\n",
              "      <td>little</td>\n",
              "      <td>1845</td>\n",
              "      <td>45</td>\n",
              "      <td>radio/TV</td>\n",
              "      <td>bad</td>\n",
              "    </tr>\n",
              "    <tr>\n",
              "      <th>999</th>\n",
              "      <td>27</td>\n",
              "      <td>male</td>\n",
              "      <td>2</td>\n",
              "      <td>own</td>\n",
              "      <td>moderate</td>\n",
              "      <td>moderate</td>\n",
              "      <td>4576</td>\n",
              "      <td>45</td>\n",
              "      <td>car</td>\n",
              "      <td>good</td>\n",
              "    </tr>\n",
              "  </tbody>\n",
              "</table>\n",
              "</div>"
            ],
            "text/plain": [
              "     Age     Sex  Job Housing Saving accounts Checking account  Credit amount  \\\n",
              "995   31  female    1     own          little              NaN           1736   \n",
              "996   40    male    3     own          little           little           3857   \n",
              "997   38    male    2     own          little              NaN            804   \n",
              "998   23    male    2    free          little           little           1845   \n",
              "999   27    male    2     own        moderate         moderate           4576   \n",
              "\n",
              "     Duration              Purpose  Risk  \n",
              "995        12  furniture/equipment  good  \n",
              "996        30                  car  good  \n",
              "997        12             radio/TV  good  \n",
              "998        45             radio/TV   bad  \n",
              "999        45                  car  good  "
            ]
          },
          "metadata": {},
          "execution_count": 4
        }
      ]
    },
    {
      "cell_type": "code",
      "metadata": {
        "id": "pdldZTmaITqc"
      },
      "source": [
        "# Ver Qualquer quantidade de linahs no final ou inicio\n",
        "\n",
        "# df.head(20)\n",
        "# df.tail(20)\n"
      ],
      "execution_count": null,
      "outputs": []
    },
    {
      "cell_type": "code",
      "metadata": {
        "colab": {
          "base_uri": "https://localhost:8080/"
        },
        "id": "heIyhdelIn9w",
        "outputId": "67b0fc88-56d9-4990-acfe-e8b0848ed47b"
      },
      "source": [
        "# Informação das variaveis ex:( tipos, valores nulos, memoria que o onjeto ta consumido, etc.)\n",
        "\n",
        "df.info() # Ver variaveis"
      ],
      "execution_count": null,
      "outputs": [
        {
          "output_type": "stream",
          "name": "stdout",
          "text": [
            "<class 'pandas.core.frame.DataFrame'>\n",
            "Int64Index: 1000 entries, 0 to 999\n",
            "Data columns (total 10 columns):\n",
            " #   Column            Non-Null Count  Dtype \n",
            "---  ------            --------------  ----- \n",
            " 0   Age               1000 non-null   int64 \n",
            " 1   Sex               1000 non-null   object\n",
            " 2   Job               1000 non-null   int64 \n",
            " 3   Housing           1000 non-null   object\n",
            " 4   Saving accounts   817 non-null    object\n",
            " 5   Checking account  606 non-null    object\n",
            " 6   Credit amount     1000 non-null   int64 \n",
            " 7   Duration          1000 non-null   int64 \n",
            " 8   Purpose           1000 non-null   object\n",
            " 9   Risk              1000 non-null   object\n",
            "dtypes: int64(4), object(6)\n",
            "memory usage: 85.9+ KB\n"
          ]
        }
      ]
    },
    {
      "cell_type": "code",
      "metadata": {
        "colab": {
          "base_uri": "https://localhost:8080/"
        },
        "id": "kQVdqe_hJCaA",
        "outputId": "71fce38b-d03a-4565-a95f-79d5ed2a52b3"
      },
      "source": [
        "# Comos aber o numero de colunas e linhas\n",
        "\n",
        "df.shape\n",
        "\n",
        "# Criar nova linha de codigo Ctrl + M B"
      ],
      "execution_count": null,
      "outputs": [
        {
          "output_type": "execute_result",
          "data": {
            "text/plain": [
              "(1000, 10)"
            ]
          },
          "metadata": {},
          "execution_count": 7
        }
      ]
    },
    {
      "cell_type": "code",
      "metadata": {
        "colab": {
          "base_uri": "https://localhost:8080/"
        },
        "id": "_y3wnAUfJ3vh",
        "outputId": "a7f45d72-ff73-4949-d190-3e97a73a43c5"
      },
      "source": [
        "# f-string\n",
        "\n",
        "print(f'O dataset possui {df.shape[0]} linhas e {df.shape[1]} colunas')"
      ],
      "execution_count": null,
      "outputs": [
        {
          "output_type": "stream",
          "name": "stdout",
          "text": [
            "O dataset possui 1000 linhas e 10 colunas\n"
          ]
        }
      ]
    },
    {
      "cell_type": "code",
      "metadata": {
        "colab": {
          "base_uri": "https://localhost:8080/"
        },
        "id": "512f0H-_PLAz",
        "outputId": "5c069247-b9e2-472f-a417-9dce112f3ef4"
      },
      "source": [
        "# Como acessar os valores de Shape.\n",
        "df.shape[1]"
      ],
      "execution_count": null,
      "outputs": [
        {
          "output_type": "execute_result",
          "data": {
            "text/plain": [
              "10"
            ]
          },
          "metadata": {},
          "execution_count": 9
        }
      ]
    },
    {
      "cell_type": "code",
      "metadata": {
        "colab": {
          "base_uri": "https://localhost:8080/",
          "height": 37
        },
        "id": "pT8Ive9iQKRx",
        "outputId": "1c102dca-08bb-4d6d-8778-4888e24a9d92"
      },
      "source": [
        "# Usar f-string dentro de Quarys\n",
        "\n",
        "\"\"\"\n",
        "import pandasql as ps\n",
        "\n",
        "filtro_idade = 70\n",
        "quary = f\"\"\"\n",
        "# select = from df\n",
        "# where age < {filtro_idade} \n",
        "\"\"\"\n",
        "\n",
        "ps.sqldf(query, locals())\"\"\""
      ],
      "execution_count": null,
      "outputs": [
        {
          "output_type": "execute_result",
          "data": {
            "application/vnd.google.colaboratory.intrinsic+json": {
              "type": "string"
            },
            "text/plain": [
              "'\\n\\nps.sqldf(query, locals())'"
            ]
          },
          "metadata": {},
          "execution_count": 10
        }
      ]
    },
    {
      "cell_type": "code",
      "metadata": {
        "colab": {
          "base_uri": "https://localhost:8080/",
          "height": 174
        },
        "id": "gv-JanZuR-Sg",
        "outputId": "a4df2360-3271-4973-b7a7-12fe1a32eee3"
      },
      "source": [
        "# Acessar elementos: loc e iloc\n",
        "\n",
        "df.iloc[0:4, 0:7] # acessando intervalo linha 0 a 3, e coluna 0 a 7\n"
      ],
      "execution_count": null,
      "outputs": [
        {
          "output_type": "execute_result",
          "data": {
            "text/html": [
              "<div>\n",
              "<style scoped>\n",
              "    .dataframe tbody tr th:only-of-type {\n",
              "        vertical-align: middle;\n",
              "    }\n",
              "\n",
              "    .dataframe tbody tr th {\n",
              "        vertical-align: top;\n",
              "    }\n",
              "\n",
              "    .dataframe thead th {\n",
              "        text-align: right;\n",
              "    }\n",
              "</style>\n",
              "<table border=\"1\" class=\"dataframe\">\n",
              "  <thead>\n",
              "    <tr style=\"text-align: right;\">\n",
              "      <th></th>\n",
              "      <th>Age</th>\n",
              "      <th>Sex</th>\n",
              "      <th>Job</th>\n",
              "      <th>Housing</th>\n",
              "      <th>Saving accounts</th>\n",
              "      <th>Checking account</th>\n",
              "      <th>Credit amount</th>\n",
              "    </tr>\n",
              "  </thead>\n",
              "  <tbody>\n",
              "    <tr>\n",
              "      <th>0</th>\n",
              "      <td>67</td>\n",
              "      <td>male</td>\n",
              "      <td>2</td>\n",
              "      <td>own</td>\n",
              "      <td>NaN</td>\n",
              "      <td>little</td>\n",
              "      <td>1169</td>\n",
              "    </tr>\n",
              "    <tr>\n",
              "      <th>1</th>\n",
              "      <td>22</td>\n",
              "      <td>female</td>\n",
              "      <td>2</td>\n",
              "      <td>own</td>\n",
              "      <td>little</td>\n",
              "      <td>moderate</td>\n",
              "      <td>5951</td>\n",
              "    </tr>\n",
              "    <tr>\n",
              "      <th>2</th>\n",
              "      <td>49</td>\n",
              "      <td>male</td>\n",
              "      <td>1</td>\n",
              "      <td>own</td>\n",
              "      <td>little</td>\n",
              "      <td>NaN</td>\n",
              "      <td>2096</td>\n",
              "    </tr>\n",
              "    <tr>\n",
              "      <th>3</th>\n",
              "      <td>45</td>\n",
              "      <td>male</td>\n",
              "      <td>2</td>\n",
              "      <td>free</td>\n",
              "      <td>little</td>\n",
              "      <td>little</td>\n",
              "      <td>7882</td>\n",
              "    </tr>\n",
              "  </tbody>\n",
              "</table>\n",
              "</div>"
            ],
            "text/plain": [
              "   Age     Sex  Job Housing Saving accounts Checking account  Credit amount\n",
              "0   67    male    2     own             NaN           little           1169\n",
              "1   22  female    2     own          little         moderate           5951\n",
              "2   49    male    1     own          little              NaN           2096\n",
              "3   45    male    2    free          little           little           7882"
            ]
          },
          "metadata": {},
          "execution_count": 11
        }
      ]
    },
    {
      "cell_type": "code",
      "metadata": {
        "colab": {
          "base_uri": "https://localhost:8080/"
        },
        "id": "ixqY81GIS2pT",
        "outputId": "f84fe177-0e92-43cb-9e36-957299944614"
      },
      "source": [
        "# Outras formas de acessar elementos, usando nome da coluna\n",
        "\n",
        "df.loc[0:3, \"Age\"]"
      ],
      "execution_count": null,
      "outputs": [
        {
          "output_type": "execute_result",
          "data": {
            "text/plain": [
              "0    67\n",
              "1    22\n",
              "2    49\n",
              "3    45\n",
              "Name: Age, dtype: int64"
            ]
          },
          "metadata": {},
          "execution_count": 12
        }
      ]
    },
    {
      "cell_type": "code",
      "metadata": {
        "colab": {
          "base_uri": "https://localhost:8080/",
          "height": 174
        },
        "id": "FjCDO2hoSL6F",
        "outputId": "3016613a-449a-464e-d0ce-58b399f15674"
      },
      "source": [
        "# Se quiser trazer mais de uma coluna\n",
        "\n",
        "df.loc[0:3, ['Age', 'Sex', 'Job']] \n",
        "\n",
        "# lembrar de adicionar [] a uma lista se for mais de uma coluna"
      ],
      "execution_count": null,
      "outputs": [
        {
          "output_type": "execute_result",
          "data": {
            "text/html": [
              "<div>\n",
              "<style scoped>\n",
              "    .dataframe tbody tr th:only-of-type {\n",
              "        vertical-align: middle;\n",
              "    }\n",
              "\n",
              "    .dataframe tbody tr th {\n",
              "        vertical-align: top;\n",
              "    }\n",
              "\n",
              "    .dataframe thead th {\n",
              "        text-align: right;\n",
              "    }\n",
              "</style>\n",
              "<table border=\"1\" class=\"dataframe\">\n",
              "  <thead>\n",
              "    <tr style=\"text-align: right;\">\n",
              "      <th></th>\n",
              "      <th>Age</th>\n",
              "      <th>Sex</th>\n",
              "      <th>Job</th>\n",
              "    </tr>\n",
              "  </thead>\n",
              "  <tbody>\n",
              "    <tr>\n",
              "      <th>0</th>\n",
              "      <td>67</td>\n",
              "      <td>male</td>\n",
              "      <td>2</td>\n",
              "    </tr>\n",
              "    <tr>\n",
              "      <th>1</th>\n",
              "      <td>22</td>\n",
              "      <td>female</td>\n",
              "      <td>2</td>\n",
              "    </tr>\n",
              "    <tr>\n",
              "      <th>2</th>\n",
              "      <td>49</td>\n",
              "      <td>male</td>\n",
              "      <td>1</td>\n",
              "    </tr>\n",
              "    <tr>\n",
              "      <th>3</th>\n",
              "      <td>45</td>\n",
              "      <td>male</td>\n",
              "      <td>2</td>\n",
              "    </tr>\n",
              "  </tbody>\n",
              "</table>\n",
              "</div>"
            ],
            "text/plain": [
              "   Age     Sex  Job\n",
              "0   67    male    2\n",
              "1   22  female    2\n",
              "2   49    male    1\n",
              "3   45    male    2"
            ]
          },
          "metadata": {},
          "execution_count": 13
        }
      ]
    },
    {
      "cell_type": "code",
      "metadata": {
        "colab": {
          "base_uri": "https://localhost:8080/",
          "height": 206
        },
        "id": "u9mHR19rTq9o",
        "outputId": "6b9c2e3b-8252-415b-b6b1-0126d3893d53"
      },
      "source": [
        "# Acessar pelo nome da coluna como indice\n",
        "\n",
        "novo_dataframe = df[[\"Age\", \"Housing\"]]\n",
        "novo_dataframe.head()"
      ],
      "execution_count": null,
      "outputs": [
        {
          "output_type": "execute_result",
          "data": {
            "text/html": [
              "<div>\n",
              "<style scoped>\n",
              "    .dataframe tbody tr th:only-of-type {\n",
              "        vertical-align: middle;\n",
              "    }\n",
              "\n",
              "    .dataframe tbody tr th {\n",
              "        vertical-align: top;\n",
              "    }\n",
              "\n",
              "    .dataframe thead th {\n",
              "        text-align: right;\n",
              "    }\n",
              "</style>\n",
              "<table border=\"1\" class=\"dataframe\">\n",
              "  <thead>\n",
              "    <tr style=\"text-align: right;\">\n",
              "      <th></th>\n",
              "      <th>Age</th>\n",
              "      <th>Housing</th>\n",
              "    </tr>\n",
              "  </thead>\n",
              "  <tbody>\n",
              "    <tr>\n",
              "      <th>0</th>\n",
              "      <td>67</td>\n",
              "      <td>own</td>\n",
              "    </tr>\n",
              "    <tr>\n",
              "      <th>1</th>\n",
              "      <td>22</td>\n",
              "      <td>own</td>\n",
              "    </tr>\n",
              "    <tr>\n",
              "      <th>2</th>\n",
              "      <td>49</td>\n",
              "      <td>own</td>\n",
              "    </tr>\n",
              "    <tr>\n",
              "      <th>3</th>\n",
              "      <td>45</td>\n",
              "      <td>free</td>\n",
              "    </tr>\n",
              "    <tr>\n",
              "      <th>4</th>\n",
              "      <td>53</td>\n",
              "      <td>free</td>\n",
              "    </tr>\n",
              "  </tbody>\n",
              "</table>\n",
              "</div>"
            ],
            "text/plain": [
              "   Age Housing\n",
              "0   67     own\n",
              "1   22     own\n",
              "2   49     own\n",
              "3   45    free\n",
              "4   53    free"
            ]
          },
          "metadata": {},
          "execution_count": 14
        }
      ]
    },
    {
      "cell_type": "code",
      "metadata": {
        "colab": {
          "base_uri": "https://localhost:8080/",
          "height": 300
        },
        "id": "cwttxJkOUNJX",
        "outputId": "f0f59c84-5f1a-4428-a644-9eba5594e21d"
      },
      "source": [
        "# Estatistica Descritiva // IMPORTANTE\n",
        "\n",
        "df.describe()\n",
        "\n",
        "# Média de duração = 20,90\n",
        "# Desvio padrão = 4,00 á 72,00\n",
        "# Maximo de idade = 75 anos\n",
        "# Minimo de diade = 18 anos"
      ],
      "execution_count": null,
      "outputs": [
        {
          "output_type": "execute_result",
          "data": {
            "text/html": [
              "<div>\n",
              "<style scoped>\n",
              "    .dataframe tbody tr th:only-of-type {\n",
              "        vertical-align: middle;\n",
              "    }\n",
              "\n",
              "    .dataframe tbody tr th {\n",
              "        vertical-align: top;\n",
              "    }\n",
              "\n",
              "    .dataframe thead th {\n",
              "        text-align: right;\n",
              "    }\n",
              "</style>\n",
              "<table border=\"1\" class=\"dataframe\">\n",
              "  <thead>\n",
              "    <tr style=\"text-align: right;\">\n",
              "      <th></th>\n",
              "      <th>Age</th>\n",
              "      <th>Job</th>\n",
              "      <th>Credit amount</th>\n",
              "      <th>Duration</th>\n",
              "    </tr>\n",
              "  </thead>\n",
              "  <tbody>\n",
              "    <tr>\n",
              "      <th>count</th>\n",
              "      <td>1,000.00</td>\n",
              "      <td>1,000.00</td>\n",
              "      <td>1,000.00</td>\n",
              "      <td>1,000.00</td>\n",
              "    </tr>\n",
              "    <tr>\n",
              "      <th>mean</th>\n",
              "      <td>35.55</td>\n",
              "      <td>1.90</td>\n",
              "      <td>3,271.26</td>\n",
              "      <td>20.90</td>\n",
              "    </tr>\n",
              "    <tr>\n",
              "      <th>std</th>\n",
              "      <td>11.38</td>\n",
              "      <td>0.65</td>\n",
              "      <td>2,822.74</td>\n",
              "      <td>12.06</td>\n",
              "    </tr>\n",
              "    <tr>\n",
              "      <th>min</th>\n",
              "      <td>19.00</td>\n",
              "      <td>0.00</td>\n",
              "      <td>250.00</td>\n",
              "      <td>4.00</td>\n",
              "    </tr>\n",
              "    <tr>\n",
              "      <th>25%</th>\n",
              "      <td>27.00</td>\n",
              "      <td>2.00</td>\n",
              "      <td>1,365.50</td>\n",
              "      <td>12.00</td>\n",
              "    </tr>\n",
              "    <tr>\n",
              "      <th>50%</th>\n",
              "      <td>33.00</td>\n",
              "      <td>2.00</td>\n",
              "      <td>2,319.50</td>\n",
              "      <td>18.00</td>\n",
              "    </tr>\n",
              "    <tr>\n",
              "      <th>75%</th>\n",
              "      <td>42.00</td>\n",
              "      <td>2.00</td>\n",
              "      <td>3,972.25</td>\n",
              "      <td>24.00</td>\n",
              "    </tr>\n",
              "    <tr>\n",
              "      <th>max</th>\n",
              "      <td>75.00</td>\n",
              "      <td>3.00</td>\n",
              "      <td>18,424.00</td>\n",
              "      <td>72.00</td>\n",
              "    </tr>\n",
              "  </tbody>\n",
              "</table>\n",
              "</div>"
            ],
            "text/plain": [
              "           Age      Job  Credit amount  Duration\n",
              "count 1,000.00 1,000.00       1,000.00  1,000.00\n",
              "mean     35.55     1.90       3,271.26     20.90\n",
              "std      11.38     0.65       2,822.74     12.06\n",
              "min      19.00     0.00         250.00      4.00\n",
              "25%      27.00     2.00       1,365.50     12.00\n",
              "50%      33.00     2.00       2,319.50     18.00\n",
              "75%      42.00     2.00       3,972.25     24.00\n",
              "max      75.00     3.00      18,424.00     72.00"
            ]
          },
          "metadata": {},
          "execution_count": 15
        }
      ]
    },
    {
      "cell_type": "code",
      "metadata": {
        "colab": {
          "base_uri": "https://localhost:8080/",
          "height": 143
        },
        "id": "8fLSuOVQVBtq",
        "outputId": "a1b5bb43-f216-4a9e-c4c8-c157d3ecdcbf"
      },
      "source": [
        "# Estatistica descritiva por grupo\n",
        "\n",
        "df.groupby('Sex')[['Age', 'Credit amount', 'Duration']].mean()\n",
        "\n",
        "# Cria duas colunas de Sexo Masculino e Feminino, por as demais colunas. // max/ min/ med"
      ],
      "execution_count": null,
      "outputs": [
        {
          "output_type": "execute_result",
          "data": {
            "text/html": [
              "<div>\n",
              "<style scoped>\n",
              "    .dataframe tbody tr th:only-of-type {\n",
              "        vertical-align: middle;\n",
              "    }\n",
              "\n",
              "    .dataframe tbody tr th {\n",
              "        vertical-align: top;\n",
              "    }\n",
              "\n",
              "    .dataframe thead th {\n",
              "        text-align: right;\n",
              "    }\n",
              "</style>\n",
              "<table border=\"1\" class=\"dataframe\">\n",
              "  <thead>\n",
              "    <tr style=\"text-align: right;\">\n",
              "      <th></th>\n",
              "      <th>Age</th>\n",
              "      <th>Credit amount</th>\n",
              "      <th>Duration</th>\n",
              "    </tr>\n",
              "    <tr>\n",
              "      <th>Sex</th>\n",
              "      <th></th>\n",
              "      <th></th>\n",
              "      <th></th>\n",
              "    </tr>\n",
              "  </thead>\n",
              "  <tbody>\n",
              "    <tr>\n",
              "      <th>female</th>\n",
              "      <td>32.80</td>\n",
              "      <td>2,877.77</td>\n",
              "      <td>19.44</td>\n",
              "    </tr>\n",
              "    <tr>\n",
              "      <th>male</th>\n",
              "      <td>36.78</td>\n",
              "      <td>3,448.04</td>\n",
              "      <td>21.56</td>\n",
              "    </tr>\n",
              "  </tbody>\n",
              "</table>\n",
              "</div>"
            ],
            "text/plain": [
              "         Age  Credit amount  Duration\n",
              "Sex                                  \n",
              "female 32.80       2,877.77     19.44\n",
              "male   36.78       3,448.04     21.56"
            ]
          },
          "metadata": {},
          "execution_count": 16
        }
      ]
    },
    {
      "cell_type": "code",
      "metadata": {
        "colab": {
          "base_uri": "https://localhost:8080/",
          "height": 331
        },
        "id": "LNTfoJO_UVC9",
        "outputId": "a3438a07-43bf-4141-cb66-00d5c2a1e217"
      },
      "source": [
        "# Estatistica por grupo por motivo\n",
        "\n",
        "df.groupby('Purpose')[['Age', 'Credit amount', 'Duration']].mean()"
      ],
      "execution_count": null,
      "outputs": [
        {
          "output_type": "execute_result",
          "data": {
            "text/html": [
              "<div>\n",
              "<style scoped>\n",
              "    .dataframe tbody tr th:only-of-type {\n",
              "        vertical-align: middle;\n",
              "    }\n",
              "\n",
              "    .dataframe tbody tr th {\n",
              "        vertical-align: top;\n",
              "    }\n",
              "\n",
              "    .dataframe thead th {\n",
              "        text-align: right;\n",
              "    }\n",
              "</style>\n",
              "<table border=\"1\" class=\"dataframe\">\n",
              "  <thead>\n",
              "    <tr style=\"text-align: right;\">\n",
              "      <th></th>\n",
              "      <th>Age</th>\n",
              "      <th>Credit amount</th>\n",
              "      <th>Duration</th>\n",
              "    </tr>\n",
              "    <tr>\n",
              "      <th>Purpose</th>\n",
              "      <th></th>\n",
              "      <th></th>\n",
              "      <th></th>\n",
              "    </tr>\n",
              "  </thead>\n",
              "  <tbody>\n",
              "    <tr>\n",
              "      <th>business</th>\n",
              "      <td>35.48</td>\n",
              "      <td>4,158.04</td>\n",
              "      <td>26.94</td>\n",
              "    </tr>\n",
              "    <tr>\n",
              "      <th>car</th>\n",
              "      <td>37.14</td>\n",
              "      <td>3,768.19</td>\n",
              "      <td>20.81</td>\n",
              "    </tr>\n",
              "    <tr>\n",
              "      <th>domestic appliances</th>\n",
              "      <td>34.25</td>\n",
              "      <td>1,498.00</td>\n",
              "      <td>16.83</td>\n",
              "    </tr>\n",
              "    <tr>\n",
              "      <th>education</th>\n",
              "      <td>38.29</td>\n",
              "      <td>2,879.20</td>\n",
              "      <td>19.68</td>\n",
              "    </tr>\n",
              "    <tr>\n",
              "      <th>furniture/equipment</th>\n",
              "      <td>32.46</td>\n",
              "      <td>3,066.99</td>\n",
              "      <td>19.29</td>\n",
              "    </tr>\n",
              "    <tr>\n",
              "      <th>radio/TV</th>\n",
              "      <td>34.70</td>\n",
              "      <td>2,487.65</td>\n",
              "      <td>20.05</td>\n",
              "    </tr>\n",
              "    <tr>\n",
              "      <th>repairs</th>\n",
              "      <td>38.55</td>\n",
              "      <td>2,728.09</td>\n",
              "      <td>19.09</td>\n",
              "    </tr>\n",
              "    <tr>\n",
              "      <th>vacation/others</th>\n",
              "      <td>39.92</td>\n",
              "      <td>8,209.33</td>\n",
              "      <td>32.33</td>\n",
              "    </tr>\n",
              "  </tbody>\n",
              "</table>\n",
              "</div>"
            ],
            "text/plain": [
              "                      Age  Credit amount  Duration\n",
              "Purpose                                           \n",
              "business            35.48       4,158.04     26.94\n",
              "car                 37.14       3,768.19     20.81\n",
              "domestic appliances 34.25       1,498.00     16.83\n",
              "education           38.29       2,879.20     19.68\n",
              "furniture/equipment 32.46       3,066.99     19.29\n",
              "radio/TV            34.70       2,487.65     20.05\n",
              "repairs             38.55       2,728.09     19.09\n",
              "vacation/others     39.92       8,209.33     32.33"
            ]
          },
          "metadata": {},
          "execution_count": 17
        }
      ]
    },
    {
      "cell_type": "code",
      "metadata": {
        "colab": {
          "base_uri": "https://localhost:8080/",
          "height": 423
        },
        "id": "5fV2iMJbWToO",
        "outputId": "09b26909-3314-43a2-edb2-bbb70f9c9ae9"
      },
      "source": [
        "# Dados que estão faltando na tabela // Missing\n",
        "\n",
        "df.isna()\n",
        "\n",
        "# IMPORTANTE AVALIAR O DATASET com muitos missings\n"
      ],
      "execution_count": null,
      "outputs": [
        {
          "output_type": "execute_result",
          "data": {
            "text/html": [
              "<div>\n",
              "<style scoped>\n",
              "    .dataframe tbody tr th:only-of-type {\n",
              "        vertical-align: middle;\n",
              "    }\n",
              "\n",
              "    .dataframe tbody tr th {\n",
              "        vertical-align: top;\n",
              "    }\n",
              "\n",
              "    .dataframe thead th {\n",
              "        text-align: right;\n",
              "    }\n",
              "</style>\n",
              "<table border=\"1\" class=\"dataframe\">\n",
              "  <thead>\n",
              "    <tr style=\"text-align: right;\">\n",
              "      <th></th>\n",
              "      <th>Age</th>\n",
              "      <th>Sex</th>\n",
              "      <th>Job</th>\n",
              "      <th>Housing</th>\n",
              "      <th>Saving accounts</th>\n",
              "      <th>Checking account</th>\n",
              "      <th>Credit amount</th>\n",
              "      <th>Duration</th>\n",
              "      <th>Purpose</th>\n",
              "      <th>Risk</th>\n",
              "    </tr>\n",
              "  </thead>\n",
              "  <tbody>\n",
              "    <tr>\n",
              "      <th>0</th>\n",
              "      <td>False</td>\n",
              "      <td>False</td>\n",
              "      <td>False</td>\n",
              "      <td>False</td>\n",
              "      <td>True</td>\n",
              "      <td>False</td>\n",
              "      <td>False</td>\n",
              "      <td>False</td>\n",
              "      <td>False</td>\n",
              "      <td>False</td>\n",
              "    </tr>\n",
              "    <tr>\n",
              "      <th>1</th>\n",
              "      <td>False</td>\n",
              "      <td>False</td>\n",
              "      <td>False</td>\n",
              "      <td>False</td>\n",
              "      <td>False</td>\n",
              "      <td>False</td>\n",
              "      <td>False</td>\n",
              "      <td>False</td>\n",
              "      <td>False</td>\n",
              "      <td>False</td>\n",
              "    </tr>\n",
              "    <tr>\n",
              "      <th>2</th>\n",
              "      <td>False</td>\n",
              "      <td>False</td>\n",
              "      <td>False</td>\n",
              "      <td>False</td>\n",
              "      <td>False</td>\n",
              "      <td>True</td>\n",
              "      <td>False</td>\n",
              "      <td>False</td>\n",
              "      <td>False</td>\n",
              "      <td>False</td>\n",
              "    </tr>\n",
              "    <tr>\n",
              "      <th>3</th>\n",
              "      <td>False</td>\n",
              "      <td>False</td>\n",
              "      <td>False</td>\n",
              "      <td>False</td>\n",
              "      <td>False</td>\n",
              "      <td>False</td>\n",
              "      <td>False</td>\n",
              "      <td>False</td>\n",
              "      <td>False</td>\n",
              "      <td>False</td>\n",
              "    </tr>\n",
              "    <tr>\n",
              "      <th>4</th>\n",
              "      <td>False</td>\n",
              "      <td>False</td>\n",
              "      <td>False</td>\n",
              "      <td>False</td>\n",
              "      <td>False</td>\n",
              "      <td>False</td>\n",
              "      <td>False</td>\n",
              "      <td>False</td>\n",
              "      <td>False</td>\n",
              "      <td>False</td>\n",
              "    </tr>\n",
              "    <tr>\n",
              "      <th>...</th>\n",
              "      <td>...</td>\n",
              "      <td>...</td>\n",
              "      <td>...</td>\n",
              "      <td>...</td>\n",
              "      <td>...</td>\n",
              "      <td>...</td>\n",
              "      <td>...</td>\n",
              "      <td>...</td>\n",
              "      <td>...</td>\n",
              "      <td>...</td>\n",
              "    </tr>\n",
              "    <tr>\n",
              "      <th>995</th>\n",
              "      <td>False</td>\n",
              "      <td>False</td>\n",
              "      <td>False</td>\n",
              "      <td>False</td>\n",
              "      <td>False</td>\n",
              "      <td>True</td>\n",
              "      <td>False</td>\n",
              "      <td>False</td>\n",
              "      <td>False</td>\n",
              "      <td>False</td>\n",
              "    </tr>\n",
              "    <tr>\n",
              "      <th>996</th>\n",
              "      <td>False</td>\n",
              "      <td>False</td>\n",
              "      <td>False</td>\n",
              "      <td>False</td>\n",
              "      <td>False</td>\n",
              "      <td>False</td>\n",
              "      <td>False</td>\n",
              "      <td>False</td>\n",
              "      <td>False</td>\n",
              "      <td>False</td>\n",
              "    </tr>\n",
              "    <tr>\n",
              "      <th>997</th>\n",
              "      <td>False</td>\n",
              "      <td>False</td>\n",
              "      <td>False</td>\n",
              "      <td>False</td>\n",
              "      <td>False</td>\n",
              "      <td>True</td>\n",
              "      <td>False</td>\n",
              "      <td>False</td>\n",
              "      <td>False</td>\n",
              "      <td>False</td>\n",
              "    </tr>\n",
              "    <tr>\n",
              "      <th>998</th>\n",
              "      <td>False</td>\n",
              "      <td>False</td>\n",
              "      <td>False</td>\n",
              "      <td>False</td>\n",
              "      <td>False</td>\n",
              "      <td>False</td>\n",
              "      <td>False</td>\n",
              "      <td>False</td>\n",
              "      <td>False</td>\n",
              "      <td>False</td>\n",
              "    </tr>\n",
              "    <tr>\n",
              "      <th>999</th>\n",
              "      <td>False</td>\n",
              "      <td>False</td>\n",
              "      <td>False</td>\n",
              "      <td>False</td>\n",
              "      <td>False</td>\n",
              "      <td>False</td>\n",
              "      <td>False</td>\n",
              "      <td>False</td>\n",
              "      <td>False</td>\n",
              "      <td>False</td>\n",
              "    </tr>\n",
              "  </tbody>\n",
              "</table>\n",
              "<p>1000 rows × 10 columns</p>\n",
              "</div>"
            ],
            "text/plain": [
              "       Age    Sex    Job  Housing  Saving accounts  Checking account  \\\n",
              "0    False  False  False    False             True             False   \n",
              "1    False  False  False    False            False             False   \n",
              "2    False  False  False    False            False              True   \n",
              "3    False  False  False    False            False             False   \n",
              "4    False  False  False    False            False             False   \n",
              "..     ...    ...    ...      ...              ...               ...   \n",
              "995  False  False  False    False            False              True   \n",
              "996  False  False  False    False            False             False   \n",
              "997  False  False  False    False            False              True   \n",
              "998  False  False  False    False            False             False   \n",
              "999  False  False  False    False            False             False   \n",
              "\n",
              "     Credit amount  Duration  Purpose   Risk  \n",
              "0            False     False    False  False  \n",
              "1            False     False    False  False  \n",
              "2            False     False    False  False  \n",
              "3            False     False    False  False  \n",
              "4            False     False    False  False  \n",
              "..             ...       ...      ...    ...  \n",
              "995          False     False    False  False  \n",
              "996          False     False    False  False  \n",
              "997          False     False    False  False  \n",
              "998          False     False    False  False  \n",
              "999          False     False    False  False  \n",
              "\n",
              "[1000 rows x 10 columns]"
            ]
          },
          "metadata": {},
          "execution_count": 18
        }
      ]
    },
    {
      "cell_type": "code",
      "metadata": {
        "colab": {
          "base_uri": "https://localhost:8080/"
        },
        "id": "mkb8sHmnW0l3",
        "outputId": "846aee4b-a758-4be0-bfba-79fa06879cb7"
      },
      "source": [
        "# Total de missing por coluna // Missings Ex\n",
        "\n",
        "df.isna().sum()"
      ],
      "execution_count": null,
      "outputs": [
        {
          "output_type": "execute_result",
          "data": {
            "text/plain": [
              "Age                   0\n",
              "Sex                   0\n",
              "Job                   0\n",
              "Housing               0\n",
              "Saving accounts     183\n",
              "Checking account    394\n",
              "Credit amount         0\n",
              "Duration              0\n",
              "Purpose               0\n",
              "Risk                  0\n",
              "dtype: int64"
            ]
          },
          "metadata": {},
          "execution_count": 19
        }
      ]
    },
    {
      "cell_type": "code",
      "metadata": {
        "colab": {
          "base_uri": "https://localhost:8080/"
        },
        "id": "LOBVg-EDXPlW",
        "outputId": "45ded6af-ae2f-4d00-ce55-4bec782ed029"
      },
      "source": [
        "# Media de dados faltantes por coluna Ex\n",
        "\n",
        "df.isna().mean() # Caso queira preencher, poderia usar fillna()\n",
        "\n",
        "# Usar fillna() apenas depois de teste e treino para evitar erro."
      ],
      "execution_count": null,
      "outputs": [
        {
          "output_type": "execute_result",
          "data": {
            "text/plain": [
              "Age                0.00\n",
              "Sex                0.00\n",
              "Job                0.00\n",
              "Housing            0.00\n",
              "Saving accounts    0.18\n",
              "Checking account   0.39\n",
              "Credit amount      0.00\n",
              "Duration           0.00\n",
              "Purpose            0.00\n",
              "Risk               0.00\n",
              "dtype: float64"
            ]
          },
          "metadata": {},
          "execution_count": 20
        }
      ]
    },
    {
      "cell_type": "code",
      "metadata": {
        "colab": {
          "base_uri": "https://localhost:8080/"
        },
        "id": "e21-nHnlXcS0",
        "outputId": "328de956-73f0-4568-e1df-a047a5770e55"
      },
      "source": [
        "# Encontrar variaveis(colunas) categoricas\n",
        "\n",
        "df.Housing.value_counts() # conta quantidade por cada tipo de valor"
      ],
      "execution_count": null,
      "outputs": [
        {
          "output_type": "execute_result",
          "data": {
            "text/plain": [
              "own     713\n",
              "rent    179\n",
              "free    108\n",
              "Name: Housing, dtype: int64"
            ]
          },
          "metadata": {},
          "execution_count": 21
        }
      ]
    },
    {
      "cell_type": "code",
      "metadata": {
        "colab": {
          "base_uri": "https://localhost:8080/"
        },
        "id": "yfc218EkZ2XN",
        "outputId": "4c356b8c-8121-4776-fa14-13e7f4945018"
      },
      "source": [
        "# Encontrar categoria por sexo Ex\n",
        "\n",
        "df.Sex.value_counts() # Mais homens que mulheres"
      ],
      "execution_count": null,
      "outputs": [
        {
          "output_type": "execute_result",
          "data": {
            "text/plain": [
              "male      690\n",
              "female    310\n",
              "Name: Sex, dtype: int64"
            ]
          },
          "metadata": {},
          "execution_count": 22
        }
      ]
    },
    {
      "cell_type": "code",
      "metadata": {
        "colab": {
          "base_uri": "https://localhost:8080/"
        },
        "id": "n0eVcYzQaOHI",
        "outputId": "bcdad2a4-28f8-4c67-c240-d6e0cf82d8ed"
      },
      "source": [
        "# Encontrar categoria por percentual\n",
        "\n",
        "df.Sex.value_counts(normalize=True).sort_index() * 100"
      ],
      "execution_count": null,
      "outputs": [
        {
          "output_type": "execute_result",
          "data": {
            "text/plain": [
              "female   31.00\n",
              "male     69.00\n",
              "Name: Sex, dtype: float64"
            ]
          },
          "metadata": {},
          "execution_count": 23
        }
      ]
    },
    {
      "cell_type": "code",
      "metadata": {
        "colab": {
          "base_uri": "https://localhost:8080/"
        },
        "id": "3Ozc6vloaa0f",
        "outputId": "67db8e47-1412-4a74-eb6f-4d170b9d5b55"
      },
      "source": [
        "# Trazer todos os nomes das colunas\n",
        "\n",
        "df.columns"
      ],
      "execution_count": null,
      "outputs": [
        {
          "output_type": "execute_result",
          "data": {
            "text/plain": [
              "Index(['Age', 'Sex', 'Job', 'Housing', 'Saving accounts', 'Checking account',\n",
              "       'Credit amount', 'Duration', 'Purpose', 'Risk'],\n",
              "      dtype='object')"
            ]
          },
          "metadata": {},
          "execution_count": 24
        }
      ]
    },
    {
      "cell_type": "code",
      "metadata": {
        "colab": {
          "base_uri": "https://localhost:8080/",
          "height": 237
        },
        "id": "db1zJ2Nxa4AA",
        "outputId": "b776aeb9-caaf-4a4e-f4c7-9cbc79bd128f"
      },
      "source": [
        "# Filtrar(Query para Lógica)\n",
        "\n",
        "df.query('Age > 70') # filtra  todos os individuos com 70 anos"
      ],
      "execution_count": null,
      "outputs": [
        {
          "output_type": "execute_result",
          "data": {
            "text/html": [
              "<div>\n",
              "<style scoped>\n",
              "    .dataframe tbody tr th:only-of-type {\n",
              "        vertical-align: middle;\n",
              "    }\n",
              "\n",
              "    .dataframe tbody tr th {\n",
              "        vertical-align: top;\n",
              "    }\n",
              "\n",
              "    .dataframe thead th {\n",
              "        text-align: right;\n",
              "    }\n",
              "</style>\n",
              "<table border=\"1\" class=\"dataframe\">\n",
              "  <thead>\n",
              "    <tr style=\"text-align: right;\">\n",
              "      <th></th>\n",
              "      <th>Age</th>\n",
              "      <th>Sex</th>\n",
              "      <th>Job</th>\n",
              "      <th>Housing</th>\n",
              "      <th>Saving accounts</th>\n",
              "      <th>Checking account</th>\n",
              "      <th>Credit amount</th>\n",
              "      <th>Duration</th>\n",
              "      <th>Purpose</th>\n",
              "      <th>Risk</th>\n",
              "    </tr>\n",
              "  </thead>\n",
              "  <tbody>\n",
              "    <tr>\n",
              "      <th>186</th>\n",
              "      <td>74</td>\n",
              "      <td>female</td>\n",
              "      <td>3</td>\n",
              "      <td>free</td>\n",
              "      <td>little</td>\n",
              "      <td>moderate</td>\n",
              "      <td>5129</td>\n",
              "      <td>9</td>\n",
              "      <td>car</td>\n",
              "      <td>bad</td>\n",
              "    </tr>\n",
              "    <tr>\n",
              "      <th>330</th>\n",
              "      <td>75</td>\n",
              "      <td>male</td>\n",
              "      <td>3</td>\n",
              "      <td>free</td>\n",
              "      <td>little</td>\n",
              "      <td>little</td>\n",
              "      <td>6615</td>\n",
              "      <td>24</td>\n",
              "      <td>car</td>\n",
              "      <td>good</td>\n",
              "    </tr>\n",
              "    <tr>\n",
              "      <th>430</th>\n",
              "      <td>74</td>\n",
              "      <td>male</td>\n",
              "      <td>1</td>\n",
              "      <td>own</td>\n",
              "      <td>little</td>\n",
              "      <td>NaN</td>\n",
              "      <td>3448</td>\n",
              "      <td>5</td>\n",
              "      <td>business</td>\n",
              "      <td>good</td>\n",
              "    </tr>\n",
              "    <tr>\n",
              "      <th>536</th>\n",
              "      <td>75</td>\n",
              "      <td>female</td>\n",
              "      <td>3</td>\n",
              "      <td>own</td>\n",
              "      <td>NaN</td>\n",
              "      <td>little</td>\n",
              "      <td>1374</td>\n",
              "      <td>6</td>\n",
              "      <td>car</td>\n",
              "      <td>good</td>\n",
              "    </tr>\n",
              "    <tr>\n",
              "      <th>606</th>\n",
              "      <td>74</td>\n",
              "      <td>male</td>\n",
              "      <td>3</td>\n",
              "      <td>own</td>\n",
              "      <td>little</td>\n",
              "      <td>NaN</td>\n",
              "      <td>4526</td>\n",
              "      <td>24</td>\n",
              "      <td>business</td>\n",
              "      <td>good</td>\n",
              "    </tr>\n",
              "    <tr>\n",
              "      <th>756</th>\n",
              "      <td>74</td>\n",
              "      <td>male</td>\n",
              "      <td>0</td>\n",
              "      <td>own</td>\n",
              "      <td>little</td>\n",
              "      <td>rich</td>\n",
              "      <td>1299</td>\n",
              "      <td>6</td>\n",
              "      <td>car</td>\n",
              "      <td>good</td>\n",
              "    </tr>\n",
              "  </tbody>\n",
              "</table>\n",
              "</div>"
            ],
            "text/plain": [
              "     Age     Sex  Job Housing Saving accounts Checking account  Credit amount  \\\n",
              "186   74  female    3    free          little         moderate           5129   \n",
              "330   75    male    3    free          little           little           6615   \n",
              "430   74    male    1     own          little              NaN           3448   \n",
              "536   75  female    3     own             NaN           little           1374   \n",
              "606   74    male    3     own          little              NaN           4526   \n",
              "756   74    male    0     own          little             rich           1299   \n",
              "\n",
              "     Duration   Purpose  Risk  \n",
              "186         9       car   bad  \n",
              "330        24       car  good  \n",
              "430         5  business  good  \n",
              "536         6       car  good  \n",
              "606        24  business  good  \n",
              "756         6       car  good  "
            ]
          },
          "metadata": {},
          "execution_count": 25
        }
      ]
    },
    {
      "cell_type": "code",
      "metadata": {
        "colab": {
          "base_uri": "https://localhost:8080/",
          "height": 174
        },
        "id": "KWTjPKUWbOXB",
        "outputId": "df65e8da-f782-4937-bfd7-c94f17a00e6f"
      },
      "source": [
        "# Filtrar com dois parametros\n",
        "\n",
        "homens_idosos = df.query('Age > 70 & Sex == \"male\" ' ) # Criando um novo dataframe\n",
        "homens_idosos.head()\n",
        "\n",
        "# cuidado com letras maiusculas e minusculas, porque mudam totalmente o grafico"
      ],
      "execution_count": null,
      "outputs": [
        {
          "output_type": "execute_result",
          "data": {
            "text/html": [
              "<div>\n",
              "<style scoped>\n",
              "    .dataframe tbody tr th:only-of-type {\n",
              "        vertical-align: middle;\n",
              "    }\n",
              "\n",
              "    .dataframe tbody tr th {\n",
              "        vertical-align: top;\n",
              "    }\n",
              "\n",
              "    .dataframe thead th {\n",
              "        text-align: right;\n",
              "    }\n",
              "</style>\n",
              "<table border=\"1\" class=\"dataframe\">\n",
              "  <thead>\n",
              "    <tr style=\"text-align: right;\">\n",
              "      <th></th>\n",
              "      <th>Age</th>\n",
              "      <th>Sex</th>\n",
              "      <th>Job</th>\n",
              "      <th>Housing</th>\n",
              "      <th>Saving accounts</th>\n",
              "      <th>Checking account</th>\n",
              "      <th>Credit amount</th>\n",
              "      <th>Duration</th>\n",
              "      <th>Purpose</th>\n",
              "      <th>Risk</th>\n",
              "    </tr>\n",
              "  </thead>\n",
              "  <tbody>\n",
              "    <tr>\n",
              "      <th>330</th>\n",
              "      <td>75</td>\n",
              "      <td>male</td>\n",
              "      <td>3</td>\n",
              "      <td>free</td>\n",
              "      <td>little</td>\n",
              "      <td>little</td>\n",
              "      <td>6615</td>\n",
              "      <td>24</td>\n",
              "      <td>car</td>\n",
              "      <td>good</td>\n",
              "    </tr>\n",
              "    <tr>\n",
              "      <th>430</th>\n",
              "      <td>74</td>\n",
              "      <td>male</td>\n",
              "      <td>1</td>\n",
              "      <td>own</td>\n",
              "      <td>little</td>\n",
              "      <td>NaN</td>\n",
              "      <td>3448</td>\n",
              "      <td>5</td>\n",
              "      <td>business</td>\n",
              "      <td>good</td>\n",
              "    </tr>\n",
              "    <tr>\n",
              "      <th>606</th>\n",
              "      <td>74</td>\n",
              "      <td>male</td>\n",
              "      <td>3</td>\n",
              "      <td>own</td>\n",
              "      <td>little</td>\n",
              "      <td>NaN</td>\n",
              "      <td>4526</td>\n",
              "      <td>24</td>\n",
              "      <td>business</td>\n",
              "      <td>good</td>\n",
              "    </tr>\n",
              "    <tr>\n",
              "      <th>756</th>\n",
              "      <td>74</td>\n",
              "      <td>male</td>\n",
              "      <td>0</td>\n",
              "      <td>own</td>\n",
              "      <td>little</td>\n",
              "      <td>rich</td>\n",
              "      <td>1299</td>\n",
              "      <td>6</td>\n",
              "      <td>car</td>\n",
              "      <td>good</td>\n",
              "    </tr>\n",
              "  </tbody>\n",
              "</table>\n",
              "</div>"
            ],
            "text/plain": [
              "     Age   Sex  Job Housing Saving accounts Checking account  Credit amount  \\\n",
              "330   75  male    3    free          little           little           6615   \n",
              "430   74  male    1     own          little              NaN           3448   \n",
              "606   74  male    3     own          little              NaN           4526   \n",
              "756   74  male    0     own          little             rich           1299   \n",
              "\n",
              "     Duration   Purpose  Risk  \n",
              "330        24       car  good  \n",
              "430         5  business  good  \n",
              "606        24  business  good  \n",
              "756         6       car  good  "
            ]
          },
          "metadata": {},
          "execution_count": 26
        }
      ]
    },
    {
      "cell_type": "code",
      "metadata": {
        "colab": {
          "base_uri": "https://localhost:8080/"
        },
        "id": "2c9JcMpfcQ6-",
        "outputId": "8a50bf9f-617f-4c6b-845e-f6ecc2809a1d"
      },
      "source": [
        "# Método para tentar inferir se a variavel é categorica\n",
        "\n",
        "provavel_categorica = {}\n",
        "\n",
        "for var in df.columns:\n",
        "  provavel_categorica[var] = 1.0 * df[var].nunique()/df[var].count() < 0.03\n",
        "provavel_categorica # mostra o que é categorico.\n",
        "\n",
        "# IMPORTANTE PARA DATASETS MUITO GRANDES.\n",
        "# Essa verificação mostra a quantidade de varivaeis dentro de uma coluna\n",
        "# Se for menor que 5 e  interessante usar para a modelagem\n",
        "# Se não será preciso ser feito de outra forma."
      ],
      "execution_count": null,
      "outputs": [
        {
          "output_type": "execute_result",
          "data": {
            "text/plain": [
              "{'Age': False,\n",
              " 'Checking account': True,\n",
              " 'Credit amount': False,\n",
              " 'Duration': False,\n",
              " 'Housing': True,\n",
              " 'Job': True,\n",
              " 'Purpose': True,\n",
              " 'Risk': True,\n",
              " 'Saving accounts': True,\n",
              " 'Sex': True}"
            ]
          },
          "metadata": {},
          "execution_count": 27
        }
      ]
    },
    {
      "cell_type": "code",
      "metadata": {
        "colab": {
          "base_uri": "https://localhost:8080/",
          "height": 206
        },
        "id": "i2Ezifm7fGfz",
        "outputId": "17656b40-d772-4920-c588-11788a7df812"
      },
      "source": [
        "# Dataset que irá ser usado no modelo.\n",
        "\n",
        "df['Risco_cliente'] = np.where(df['Risk'] == \"bad\", 1, 0) # Cria coluna\n",
        "df.drop('Risk', axis=1, inplace=True) # Dropa coluna // inplace torna  permanente\n",
        "df.head()\n",
        "\n",
        "# Condição de Verdadeiro ou Falso"
      ],
      "execution_count": null,
      "outputs": [
        {
          "output_type": "execute_result",
          "data": {
            "text/html": [
              "<div>\n",
              "<style scoped>\n",
              "    .dataframe tbody tr th:only-of-type {\n",
              "        vertical-align: middle;\n",
              "    }\n",
              "\n",
              "    .dataframe tbody tr th {\n",
              "        vertical-align: top;\n",
              "    }\n",
              "\n",
              "    .dataframe thead th {\n",
              "        text-align: right;\n",
              "    }\n",
              "</style>\n",
              "<table border=\"1\" class=\"dataframe\">\n",
              "  <thead>\n",
              "    <tr style=\"text-align: right;\">\n",
              "      <th></th>\n",
              "      <th>Age</th>\n",
              "      <th>Sex</th>\n",
              "      <th>Job</th>\n",
              "      <th>Housing</th>\n",
              "      <th>Saving accounts</th>\n",
              "      <th>Checking account</th>\n",
              "      <th>Credit amount</th>\n",
              "      <th>Duration</th>\n",
              "      <th>Purpose</th>\n",
              "      <th>Risco_cliente</th>\n",
              "    </tr>\n",
              "  </thead>\n",
              "  <tbody>\n",
              "    <tr>\n",
              "      <th>0</th>\n",
              "      <td>67</td>\n",
              "      <td>male</td>\n",
              "      <td>2</td>\n",
              "      <td>own</td>\n",
              "      <td>NaN</td>\n",
              "      <td>little</td>\n",
              "      <td>1169</td>\n",
              "      <td>6</td>\n",
              "      <td>radio/TV</td>\n",
              "      <td>0</td>\n",
              "    </tr>\n",
              "    <tr>\n",
              "      <th>1</th>\n",
              "      <td>22</td>\n",
              "      <td>female</td>\n",
              "      <td>2</td>\n",
              "      <td>own</td>\n",
              "      <td>little</td>\n",
              "      <td>moderate</td>\n",
              "      <td>5951</td>\n",
              "      <td>48</td>\n",
              "      <td>radio/TV</td>\n",
              "      <td>1</td>\n",
              "    </tr>\n",
              "    <tr>\n",
              "      <th>2</th>\n",
              "      <td>49</td>\n",
              "      <td>male</td>\n",
              "      <td>1</td>\n",
              "      <td>own</td>\n",
              "      <td>little</td>\n",
              "      <td>NaN</td>\n",
              "      <td>2096</td>\n",
              "      <td>12</td>\n",
              "      <td>education</td>\n",
              "      <td>0</td>\n",
              "    </tr>\n",
              "    <tr>\n",
              "      <th>3</th>\n",
              "      <td>45</td>\n",
              "      <td>male</td>\n",
              "      <td>2</td>\n",
              "      <td>free</td>\n",
              "      <td>little</td>\n",
              "      <td>little</td>\n",
              "      <td>7882</td>\n",
              "      <td>42</td>\n",
              "      <td>furniture/equipment</td>\n",
              "      <td>0</td>\n",
              "    </tr>\n",
              "    <tr>\n",
              "      <th>4</th>\n",
              "      <td>53</td>\n",
              "      <td>male</td>\n",
              "      <td>2</td>\n",
              "      <td>free</td>\n",
              "      <td>little</td>\n",
              "      <td>little</td>\n",
              "      <td>4870</td>\n",
              "      <td>24</td>\n",
              "      <td>car</td>\n",
              "      <td>1</td>\n",
              "    </tr>\n",
              "  </tbody>\n",
              "</table>\n",
              "</div>"
            ],
            "text/plain": [
              "   Age     Sex  Job Housing Saving accounts Checking account  Credit amount  \\\n",
              "0   67    male    2     own             NaN           little           1169   \n",
              "1   22  female    2     own          little         moderate           5951   \n",
              "2   49    male    1     own          little              NaN           2096   \n",
              "3   45    male    2    free          little           little           7882   \n",
              "4   53    male    2    free          little           little           4870   \n",
              "\n",
              "   Duration              Purpose  Risco_cliente  \n",
              "0         6             radio/TV              0  \n",
              "1        48             radio/TV              1  \n",
              "2        12            education              0  \n",
              "3        42  furniture/equipment              0  \n",
              "4        24                  car              1  "
            ]
          },
          "metadata": {},
          "execution_count": 28
        }
      ]
    },
    {
      "cell_type": "code",
      "metadata": {
        "colab": {
          "base_uri": "https://localhost:8080/"
        },
        "id": "xVI9n3PphgxU",
        "outputId": "496ead12-5a00-45c9-9992-f105aa393393"
      },
      "source": [
        "# Ver porcentagem\n",
        "\n",
        "df.Risco_cliente.value_counts(normalize=True) * 100\n"
      ],
      "execution_count": null,
      "outputs": [
        {
          "output_type": "execute_result",
          "data": {
            "text/plain": [
              "0   70.00\n",
              "1   30.00\n",
              "Name: Risco_cliente, dtype: float64"
            ]
          },
          "metadata": {},
          "execution_count": 29
        }
      ]
    },
    {
      "cell_type": "markdown",
      "metadata": {
        "id": "RASubhrPvFp-"
      },
      "source": [
        "**3. Análise Exploratória**\n",
        "\n",
        "PLOT COM PANDAS"
      ]
    },
    {
      "cell_type": "code",
      "metadata": {
        "colab": {
          "base_uri": "https://localhost:8080/",
          "height": 278
        },
        "id": "02J5555ovLIx",
        "outputId": "f374404b-e25e-4343-d37f-02833344236c"
      },
      "source": [
        "# Mostrando grafico com dados do pandas no matplotlib\n",
        "\n",
        "_ = plt.figure(figsize=(8, 4)) # largura e altura das barras\n",
        "_ = df.Risco_cliente.value_counts().plot(kind='bar') # Colcoando dados em grafico de barras.\n",
        "_ = plt.title('N° de cliente por tipo de risco') # Titulo\n",
        "_ = plt.ylim(0, 800) # Altura e largura"
      ],
      "execution_count": null,
      "outputs": [
        {
          "output_type": "display_data",
          "data": {
            "image/png": "[encoded data removed]",
            "text/plain": [
              "<Figure size 576x288 with 1 Axes>"
            ]
          },
          "metadata": {
            "needs_background": "light"
          }
        }
      ]
    },
    {
      "cell_type": "code",
      "metadata": {
        "colab": {
          "base_uri": "https://localhost:8080/",
          "height": 294
        },
        "id": "1ijvgIFHrkDb",
        "outputId": "4bd1a7fc-97e1-4549-c71f-92d3aa6ac0c5"
      },
      "source": [
        "# Media de risco por idade\n",
        "\n",
        "_ = df.groupby('Risco_cliente')['Age'].mean().plot(kind='bar')\n",
        "_ = plt.title('Idade media por tipo de risco')"
      ],
      "execution_count": null,
      "outputs": [
        {
          "output_type": "display_data",
          "data": {
            "image/png": "[encoded data removed]",
            "text/plain": [
              "<Figure size 432x288 with 1 Axes>"
            ]
          },
          "metadata": {
            "needs_background": "light"
          }
        }
      ]
    },
    {
      "cell_type": "code",
      "metadata": {
        "id": "0_fWiKKDsbtL"
      },
      "source": [
        ""
      ],
      "execution_count": null,
      "outputs": []
    },
    {
      "cell_type": "markdown",
      "metadata": {
        "id": "K8a2ra4VsSmZ"
      },
      "source": [
        "**PLOT COM MATPLOTLIB ( FOCO NA HIERARQUIA)**"
      ]
    },
    {
      "cell_type": "code",
      "metadata": {
        "colab": {
          "base_uri": "https://localhost:8080/",
          "height": 287
        },
        "id": "gvgYrDNtsdWH",
        "outputId": "7581f8e4-449b-495a-a09b-3c205b39188a"
      },
      "source": [
        "# GRAFICO SENDO CONSTRUIDO POR PARTES\n",
        "\n",
        "_= plt.figure(figsize=(6, 4)) # Criando a imagem que vai receber o grafico\n",
        "_ = plt.xlabel('Idade') # Constuindo eixo x\n",
        "_= plt.ylabel('Quantidade') # Construindo eixo y"
      ],
      "execution_count": null,
      "outputs": [
        {
          "output_type": "display_data",
          "data": {
            "image/png": "[encoded data removed]",
            "text/plain": [
              "<Figure size 432x288 with 1 Axes>"
            ]
          },
          "metadata": {
            "needs_background": "light"
          }
        }
      ]
    },
    {
      "cell_type": "code",
      "metadata": {
        "colab": {
          "base_uri": "https://localhost:8080/",
          "height": 297
        },
        "id": "P5w-PF2vt-8L",
        "outputId": "7c00d679-592d-4b10-bba1-be57c3922a31"
      },
      "source": [
        "# Adicionando elementos na figura\n",
        "\n",
        "_ = plt.figure(figsize=(7,4)) # Criando a imagem que vai receber o grafico\n",
        "_ = plt.hist(data=df,x='Age', bins=20, rwidth=0.9, color='Red') # Histograma / Dataset / dados em X / Tamanho do retanguilo / largura do retangulo / Colocar cor\n",
        "_ = plt.xlabel('Idade') # Nome do eixo X\n",
        "_ = plt.title('Histograma para idade') # Titulo do grafico\n",
        "\n",
        "# _ = plt.ylabel('')\n",
        "# Pode ser adicionado a tabela seguindo padrão de x"
      ],
      "execution_count": null,
      "outputs": [
        {
          "output_type": "display_data",
          "data": {
            "image/png": "[encoded data removed]",
            "text/plain": [
              "<Figure size 504x288 with 1 Axes>"
            ]
          },
          "metadata": {
            "needs_background": "light"
          }
        }
      ]
    },
    {
      "cell_type": "markdown",
      "metadata": {
        "id": "EMGZs-T2v5wt"
      },
      "source": [
        "**PLOT COM SEABORN**"
      ]
    },
    {
      "cell_type": "code",
      "metadata": {
        "colab": {
          "base_uri": "https://localhost:8080/",
          "height": 368
        },
        "id": "b5HoS7Egv9Gj",
        "outputId": "fe51e270-8ed3-434d-e680-b95b189f80ad"
      },
      "source": [
        "_ = sns.relplot(x='Age', y = 'Credit amount', data=df) # Montar grafico / eixo X / eixo Y / dataset"
      ],
      "execution_count": null,
      "outputs": [
        {
          "output_type": "display_data",
          "data": {
            "image/png": "[encoded data removed]",
            "text/plain": [
              "<Figure size 360x360 with 1 Axes>"
            ]
          },
          "metadata": {
            "needs_background": "light"
          }
        }
      ]
    },
    {
      "cell_type": "code",
      "metadata": {
        "colab": {
          "base_uri": "https://localhost:8080/",
          "height": 368
        },
        "id": "ZSVmWs3Lwgnd",
        "outputId": "3ed0078f-f24f-4aae-9c24-fa0e29360730"
      },
      "source": [
        "# Relação de credito e montante por Risco de cliente\n",
        "\n",
        "_ = sns.relplot(x='Duration', # Montar grafico / eixo X\n",
        "                y = 'Credit amount', # eixo Y\n",
        "                hue='Risco_cliente', # mudar cor de acordo com a variação do dado\n",
        "                data=df) # dataset"
      ],
      "execution_count": null,
      "outputs": [
        {
          "output_type": "display_data",
          "data": {
            "image/png": "[encoded data removed]",
            "text/plain": [
              "<Figure size 434.85x360 with 1 Axes>"
            ]
          },
          "metadata": {
            "needs_background": "light"
          }
        }
      ]
    },
    {
      "cell_type": "code",
      "metadata": {
        "colab": {
          "base_uri": "https://localhost:8080/",
          "height": 368
        },
        "id": "pe6P9JBIwaNb",
        "outputId": "f62d9511-cddd-4832-9be2-ce01b2bda211"
      },
      "source": [
        "# Como adicionar uma plaeta de cores e o tamanho dos dados\n",
        "\n",
        "_ = sns.relplot(x='Duration', \n",
        "                y = 'Credit amount', \n",
        "                hue='Risco_cliente', \n",
        "                palette=['purple', 'blue'], # Paleta de cores no grafico\n",
        "                size='Age', # aumenta tamanho de acordo com a idade\n",
        "                data=df) "
      ],
      "execution_count": null,
      "outputs": [
        {
          "output_type": "display_data",
          "data": {
            "image/png": "[encoded data removed]",
            "text/plain": [
              "<Figure size 457.325x360 with 1 Axes>"
            ]
          },
          "metadata": {
            "needs_background": "light"
          }
        }
      ]
    },
    {
      "cell_type": "code",
      "metadata": {
        "colab": {
          "base_uri": "https://localhost:8080/",
          "height": 368
        },
        "id": "-ClBQNBgyOcR",
        "outputId": "bbb61423-b684-4f61-b34f-2037d922e4c9"
      },
      "source": [
        "# Grafico de contagem por Categoria\n",
        "\n",
        "_ = sns.catplot(x='Housing', kind='count', data=df) # usando grafico categorico"
      ],
      "execution_count": null,
      "outputs": [
        {
          "output_type": "display_data",
          "data": {
            "image/png": "[encoded data removed]",
            "text/plain": [
              "<Figure size 360x360 with 1 Axes>"
            ]
          },
          "metadata": {
            "needs_background": "light"
          }
        }
      ]
    },
    {
      "cell_type": "code",
      "metadata": {
        "colab": {
          "base_uri": "https://localhost:8080/",
          "height": 368
        },
        "id": "77eQ8qZcy1Z0",
        "outputId": "ad459c22-38bc-44ff-beba-195b5471d6f1"
      },
      "source": [
        "# Grafico de contagem por Categoria Ex: 2\n",
        "\n",
        "_ = sns.catplot(x='Purpose', kind='count', data=df)\n",
        "\n",
        "# espere"
      ],
      "execution_count": null,
      "outputs": [
        {
          "output_type": "display_data",
          "data": {
            "image/png": "[encoded data removed]",
            "text/plain": [
              "<Figure size 360x360 with 1 Axes>"
            ]
          },
          "metadata": {
            "needs_background": "light"
          }
        }
      ]
    },
    {
      "cell_type": "markdown",
      "metadata": {
        "id": "0_hUy3huzRaZ"
      },
      "source": [
        "**DASHBOARD AUTOMATIZADO**"
      ]
    },
    {
      "cell_type": "code",
      "metadata": {
        "colab": {
          "base_uri": "https://localhost:8080/",
          "height": 67,
          "referenced_widgets": [
            "dcc1abe643bf445791912eba0005e442",
            "8e6a65d440c64af384675ab63efb1c56",
            "0493d987e45c4166856f0c08f9eeaabb",
            "b087ce6e93fa42f2afc02f14d3787c5f",
            "7beb87e1a8734ff085b1f5ba73d46cf3",
            "749cc4e1fa9c486a9eaba4649f908519",
            "f1ef954c308e4e28941f389b74bb3b89",
            "d8c73ae52d164bb898cf255368676c3d",
            "e85aeae6a51e452d8df8d52a624001cf",
            "e3b13daf9ec741039ca3ba76514eef1f",
            "38abf64c85c54ac5985044879909aa64"
          ]
        },
        "id": "N5IDvWoozU4r",
        "outputId": "428e0c5b-de44-4353-d279-fc2daeb31075"
      },
      "source": [
        "# Dashboard com duas linhas / Usando SWEETVIZ\n",
        "\n",
        "reporte = sv.analyze(df) # Fazer analise do grafico\n",
        "reporte.show_html()\n",
        "\n",
        "# Para abrir o arquivo SWEETVIZ_REPORT procure nos arquivo a direita.\n",
        "# Se clicar em um grafico ele trava"
      ],
      "execution_count": null,
      "outputs": [
        {
          "output_type": "display_data",
          "data": {
            "application/vnd.jupyter.widget-view+json": {
              "model_id": "dcc1abe643bf445791912eba0005e442",
              "version_minor": 0,
              "version_major": 2
            },
            "text/plain": [
              "                                             |          | [  0%]   00:00 -> (? left)"
            ]
          },
          "metadata": {}
        },
        {
          "output_type": "stream",
          "name": "stdout",
          "text": [
            "Report SWEETVIZ_REPORT.html was generated! NOTEBOOK/COLAB USERS: the web browser MAY not pop up, regardless, the report IS saved in your notebook/colab files.\n"
          ]
        }
      ]
    },
    {
      "cell_type": "markdown",
      "metadata": {
        "id": "O3zsKy9m26jc"
      },
      "source": [
        "## **## 4. MODELAGEM DE MACHINE LEARNING: RANDOM FOREST**"
      ]
    },
    {
      "cell_type": "code",
      "metadata": {
        "id": "FBLmTrY8scg7"
      },
      "source": [
        "# lISTANDO AS COLUNA DE DADOS QUE IREMOS SUAR\n",
        "\n",
        "features = ['Age', 'Job', 'Credit amount', 'Purpose', 'Housing', 'Duration']\n",
        "target = 'Risco_cliente'"
      ],
      "execution_count": null,
      "outputs": []
    },
    {
      "cell_type": "code",
      "metadata": {
        "id": "RetbfuvbtL-C"
      },
      "source": [
        "# Divisão mde dados para treinamento\n",
        "\n",
        "from sklearn.model_selection import train_test_split # separar por treino e teste\n",
        "\n",
        "X = df[features] # colunas de treino\n",
        "y = df[target] # Colunas de teste\n",
        "\n",
        "# função de treino e teste\n",
        "\n",
        "X_train, X_test, y_train, y_test = train_test_split(\n",
        "    X, y, test_size=0.50, random_state = 999\n",
        ")\n",
        "# teste_size = 25%(Será separado em uma porcentagem, nesse caso) // Random entre 999"
      ],
      "execution_count": null,
      "outputs": []
    },
    {
      "cell_type": "code",
      "metadata": {
        "id": "FCp00qpyvc8_"
      },
      "source": [
        "# Tratando as variaveis categoricas (cuidado quando for numerica)\n",
        "\n",
        "cat_features = ['Job', 'Housing', 'Purpose'] # Categorica\n",
        "num_features = ['Age', 'Credit amount', 'Duration'] # nuemricas"
      ],
      "execution_count": null,
      "outputs": []
    },
    {
      "cell_type": "code",
      "metadata": {
        "colab": {
          "base_uri": "https://localhost:8080/",
          "height": 537
        },
        "id": "a9Zmgs0owS_a",
        "outputId": "1bb56681-740d-4a35-e1cf-3e41d83843f6"
      },
      "source": [
        "# Instalar o pacote de transformação de categoria em binario\n",
        "\n",
        "!pip install category_encoders\n",
        "import category_encoders as ce # Transforma colunas categoricas em binarias\n",
        "\n",
        "encoder = ce.OneHotEncoder(cols=cat_features) # Como transformar\n",
        "\n",
        "X_train = encoder.fit_transform(X_train) \n",
        "# Fazendo tratamento para treinar a rede neural\n",
        "\n",
        "X_train.head() # Ver base do treino"
      ],
      "execution_count": null,
      "outputs": [
        {
          "output_type": "stream",
          "name": "stdout",
          "text": [
            "Collecting category_encoders\n",
            "  Downloading category_encoders-2.3.0-py2.py3-none-any.whl (82 kB)\n",
            "\u001b[?25l\r\u001b[K     |████                            | 10 kB 26.9 MB/s eta 0:00:01\r\u001b[K     |████████                        | 20 kB 28.7 MB/s eta 0:00:01\r\u001b[K     |████████████                    | 30 kB 12.4 MB/s eta 0:00:01\r\u001b[K     |████████████████                | 40 kB 9.4 MB/s eta 0:00:01\r\u001b[K     |████████████████████            | 51 kB 4.9 MB/s eta 0:00:01\r\u001b[K     |████████████████████████        | 61 kB 5.3 MB/s eta 0:00:01\r\u001b[K     |████████████████████████████    | 71 kB 5.7 MB/s eta 0:00:01\r\u001b[K     |███████████████████████████████▉| 81 kB 6.4 MB/s eta 0:00:01\r\u001b[K     |████████████████████████████████| 82 kB 392 kB/s \n",
            "\u001b[?25hRequirement already satisfied: statsmodels>=0.9.0 in /usr/local/lib/python3.7/dist-packages (from category_encoders) (0.10.2)\n",
            "Requirement already satisfied: numpy>=1.14.0 in /usr/local/lib/python3.7/dist-packages (from category_encoders) (1.19.5)\n",
            "Requirement already satisfied: scikit-learn>=0.20.0 in /usr/local/lib/python3.7/dist-packages (from category_encoders) (1.0.1)\n",
            "Requirement already satisfied: patsy>=0.5.1 in /usr/local/lib/python3.7/dist-packages (from category_encoders) (0.5.2)\n",
            "Requirement already satisfied: scipy>=1.0.0 in /usr/local/lib/python3.7/dist-packages (from category_encoders) (1.4.1)\n",
            "Requirement already satisfied: pandas>=0.21.1 in /usr/local/lib/python3.7/dist-packages (from category_encoders) (1.1.5)\n",
            "Requirement already satisfied: python-dateutil>=2.7.3 in /usr/local/lib/python3.7/dist-packages (from pandas>=0.21.1->category_encoders) (2.8.2)\n",
            "Requirement already satisfied: pytz>=2017.2 in /usr/local/lib/python3.7/dist-packages (from pandas>=0.21.1->category_encoders) (2018.9)\n",
            "Requirement already satisfied: six in /usr/local/lib/python3.7/dist-packages (from patsy>=0.5.1->category_encoders) (1.15.0)\n",
            "Requirement already satisfied: joblib>=0.11 in /usr/local/lib/python3.7/dist-packages (from scikit-learn>=0.20.0->category_encoders) (1.1.0)\n",
            "Requirement already satisfied: threadpoolctl>=2.0.0 in /usr/local/lib/python3.7/dist-packages (from scikit-learn>=0.20.0->category_encoders) (3.0.0)\n",
            "Installing collected packages: category-encoders\n",
            "Successfully installed category-encoders-2.3.0\n"
          ]
        },
        {
          "output_type": "stream",
          "name": "stderr",
          "text": [
            "/usr/local/lib/python3.7/dist-packages/statsmodels/tools/_testing.py:19: FutureWarning: pandas.util.testing is deprecated. Use the functions in the public API at pandas.testing instead.\n",
            "  import pandas.util.testing as tm\n"
          ]
        },
        {
          "output_type": "execute_result",
          "data": {
            "text/html": [
              "<div>\n",
              "<style scoped>\n",
              "    .dataframe tbody tr th:only-of-type {\n",
              "        vertical-align: middle;\n",
              "    }\n",
              "\n",
              "    .dataframe tbody tr th {\n",
              "        vertical-align: top;\n",
              "    }\n",
              "\n",
              "    .dataframe thead th {\n",
              "        text-align: right;\n",
              "    }\n",
              "</style>\n",
              "<table border=\"1\" class=\"dataframe\">\n",
              "  <thead>\n",
              "    <tr style=\"text-align: right;\">\n",
              "      <th></th>\n",
              "      <th>Age</th>\n",
              "      <th>Job_1</th>\n",
              "      <th>Job_2</th>\n",
              "      <th>Job_3</th>\n",
              "      <th>Job_4</th>\n",
              "      <th>Credit amount</th>\n",
              "      <th>Purpose_1</th>\n",
              "      <th>Purpose_2</th>\n",
              "      <th>Purpose_3</th>\n",
              "      <th>Purpose_4</th>\n",
              "      <th>Purpose_5</th>\n",
              "      <th>Purpose_6</th>\n",
              "      <th>Purpose_7</th>\n",
              "      <th>Purpose_8</th>\n",
              "      <th>Housing_1</th>\n",
              "      <th>Housing_2</th>\n",
              "      <th>Housing_3</th>\n",
              "      <th>Duration</th>\n",
              "    </tr>\n",
              "  </thead>\n",
              "  <tbody>\n",
              "    <tr>\n",
              "      <th>314</th>\n",
              "      <td>29</td>\n",
              "      <td>1</td>\n",
              "      <td>0</td>\n",
              "      <td>0</td>\n",
              "      <td>0</td>\n",
              "      <td>1494</td>\n",
              "      <td>1</td>\n",
              "      <td>0</td>\n",
              "      <td>0</td>\n",
              "      <td>0</td>\n",
              "      <td>0</td>\n",
              "      <td>0</td>\n",
              "      <td>0</td>\n",
              "      <td>0</td>\n",
              "      <td>1</td>\n",
              "      <td>0</td>\n",
              "      <td>0</td>\n",
              "      <td>4</td>\n",
              "    </tr>\n",
              "    <tr>\n",
              "      <th>941</th>\n",
              "      <td>31</td>\n",
              "      <td>1</td>\n",
              "      <td>0</td>\n",
              "      <td>0</td>\n",
              "      <td>0</td>\n",
              "      <td>1546</td>\n",
              "      <td>1</td>\n",
              "      <td>0</td>\n",
              "      <td>0</td>\n",
              "      <td>0</td>\n",
              "      <td>0</td>\n",
              "      <td>0</td>\n",
              "      <td>0</td>\n",
              "      <td>0</td>\n",
              "      <td>1</td>\n",
              "      <td>0</td>\n",
              "      <td>0</td>\n",
              "      <td>10</td>\n",
              "    </tr>\n",
              "    <tr>\n",
              "      <th>992</th>\n",
              "      <td>23</td>\n",
              "      <td>1</td>\n",
              "      <td>0</td>\n",
              "      <td>0</td>\n",
              "      <td>0</td>\n",
              "      <td>1936</td>\n",
              "      <td>0</td>\n",
              "      <td>1</td>\n",
              "      <td>0</td>\n",
              "      <td>0</td>\n",
              "      <td>0</td>\n",
              "      <td>0</td>\n",
              "      <td>0</td>\n",
              "      <td>0</td>\n",
              "      <td>0</td>\n",
              "      <td>1</td>\n",
              "      <td>0</td>\n",
              "      <td>18</td>\n",
              "    </tr>\n",
              "    <tr>\n",
              "      <th>515</th>\n",
              "      <td>37</td>\n",
              "      <td>0</td>\n",
              "      <td>1</td>\n",
              "      <td>0</td>\n",
              "      <td>0</td>\n",
              "      <td>609</td>\n",
              "      <td>1</td>\n",
              "      <td>0</td>\n",
              "      <td>0</td>\n",
              "      <td>0</td>\n",
              "      <td>0</td>\n",
              "      <td>0</td>\n",
              "      <td>0</td>\n",
              "      <td>0</td>\n",
              "      <td>1</td>\n",
              "      <td>0</td>\n",
              "      <td>0</td>\n",
              "      <td>6</td>\n",
              "    </tr>\n",
              "    <tr>\n",
              "      <th>31</th>\n",
              "      <td>27</td>\n",
              "      <td>0</td>\n",
              "      <td>1</td>\n",
              "      <td>0</td>\n",
              "      <td>0</td>\n",
              "      <td>4020</td>\n",
              "      <td>0</td>\n",
              "      <td>0</td>\n",
              "      <td>1</td>\n",
              "      <td>0</td>\n",
              "      <td>0</td>\n",
              "      <td>0</td>\n",
              "      <td>0</td>\n",
              "      <td>0</td>\n",
              "      <td>1</td>\n",
              "      <td>0</td>\n",
              "      <td>0</td>\n",
              "      <td>24</td>\n",
              "    </tr>\n",
              "  </tbody>\n",
              "</table>\n",
              "</div>"
            ],
            "text/plain": [
              "     Age  Job_1  Job_2  Job_3  Job_4  Credit amount  Purpose_1  Purpose_2  \\\n",
              "314   29      1      0      0      0           1494          1          0   \n",
              "941   31      1      0      0      0           1546          1          0   \n",
              "992   23      1      0      0      0           1936          0          1   \n",
              "515   37      0      1      0      0            609          1          0   \n",
              "31    27      0      1      0      0           4020          0          0   \n",
              "\n",
              "     Purpose_3  Purpose_4  Purpose_5  Purpose_6  Purpose_7  Purpose_8  \\\n",
              "314          0          0          0          0          0          0   \n",
              "941          0          0          0          0          0          0   \n",
              "992          0          0          0          0          0          0   \n",
              "515          0          0          0          0          0          0   \n",
              "31           1          0          0          0          0          0   \n",
              "\n",
              "     Housing_1  Housing_2  Housing_3  Duration  \n",
              "314          1          0          0         4  \n",
              "941          1          0          0        10  \n",
              "992          0          1          0        18  \n",
              "515          1          0          0         6  \n",
              "31           1          0          0        24  "
            ]
          },
          "metadata": {},
          "execution_count": 43
        }
      ]
    },
    {
      "cell_type": "code",
      "metadata": {
        "colab": {
          "base_uri": "https://localhost:8080/",
          "height": 206
        },
        "id": "aDL_iEd5z6sV",
        "outputId": "d1c10c0f-f219-4f9e-b066-894c57ae3c9b"
      },
      "source": [
        "# aplicando trataemntopara teste na rede neural e como ver\n",
        "\n",
        "X_test = encoder.transform(X_test)\n",
        "\n",
        "X_test.head() # Visualizar"
      ],
      "execution_count": null,
      "outputs": [
        {
          "output_type": "execute_result",
          "data": {
            "text/html": [
              "<div>\n",
              "<style scoped>\n",
              "    .dataframe tbody tr th:only-of-type {\n",
              "        vertical-align: middle;\n",
              "    }\n",
              "\n",
              "    .dataframe tbody tr th {\n",
              "        vertical-align: top;\n",
              "    }\n",
              "\n",
              "    .dataframe thead th {\n",
              "        text-align: right;\n",
              "    }\n",
              "</style>\n",
              "<table border=\"1\" class=\"dataframe\">\n",
              "  <thead>\n",
              "    <tr style=\"text-align: right;\">\n",
              "      <th></th>\n",
              "      <th>Age</th>\n",
              "      <th>Job_1</th>\n",
              "      <th>Job_2</th>\n",
              "      <th>Job_3</th>\n",
              "      <th>Job_4</th>\n",
              "      <th>Credit amount</th>\n",
              "      <th>Purpose_1</th>\n",
              "      <th>Purpose_2</th>\n",
              "      <th>Purpose_3</th>\n",
              "      <th>Purpose_4</th>\n",
              "      <th>Purpose_5</th>\n",
              "      <th>Purpose_6</th>\n",
              "      <th>Purpose_7</th>\n",
              "      <th>Purpose_8</th>\n",
              "      <th>Housing_1</th>\n",
              "      <th>Housing_2</th>\n",
              "      <th>Housing_3</th>\n",
              "      <th>Duration</th>\n",
              "    </tr>\n",
              "  </thead>\n",
              "  <tbody>\n",
              "    <tr>\n",
              "      <th>842</th>\n",
              "      <td>23</td>\n",
              "      <td>0</td>\n",
              "      <td>1</td>\n",
              "      <td>0</td>\n",
              "      <td>0</td>\n",
              "      <td>1943</td>\n",
              "      <td>0</td>\n",
              "      <td>0</td>\n",
              "      <td>0</td>\n",
              "      <td>0</td>\n",
              "      <td>0</td>\n",
              "      <td>0</td>\n",
              "      <td>1</td>\n",
              "      <td>0</td>\n",
              "      <td>1</td>\n",
              "      <td>0</td>\n",
              "      <td>0</td>\n",
              "      <td>18</td>\n",
              "    </tr>\n",
              "    <tr>\n",
              "      <th>68</th>\n",
              "      <td>37</td>\n",
              "      <td>0</td>\n",
              "      <td>1</td>\n",
              "      <td>0</td>\n",
              "      <td>0</td>\n",
              "      <td>1819</td>\n",
              "      <td>0</td>\n",
              "      <td>0</td>\n",
              "      <td>0</td>\n",
              "      <td>0</td>\n",
              "      <td>1</td>\n",
              "      <td>0</td>\n",
              "      <td>0</td>\n",
              "      <td>0</td>\n",
              "      <td>0</td>\n",
              "      <td>0</td>\n",
              "      <td>1</td>\n",
              "      <td>36</td>\n",
              "    </tr>\n",
              "    <tr>\n",
              "      <th>308</th>\n",
              "      <td>24</td>\n",
              "      <td>0</td>\n",
              "      <td>1</td>\n",
              "      <td>0</td>\n",
              "      <td>0</td>\n",
              "      <td>1237</td>\n",
              "      <td>0</td>\n",
              "      <td>0</td>\n",
              "      <td>1</td>\n",
              "      <td>0</td>\n",
              "      <td>0</td>\n",
              "      <td>0</td>\n",
              "      <td>0</td>\n",
              "      <td>0</td>\n",
              "      <td>1</td>\n",
              "      <td>0</td>\n",
              "      <td>0</td>\n",
              "      <td>8</td>\n",
              "    </tr>\n",
              "    <tr>\n",
              "      <th>881</th>\n",
              "      <td>48</td>\n",
              "      <td>0</td>\n",
              "      <td>1</td>\n",
              "      <td>0</td>\n",
              "      <td>0</td>\n",
              "      <td>9277</td>\n",
              "      <td>1</td>\n",
              "      <td>0</td>\n",
              "      <td>0</td>\n",
              "      <td>0</td>\n",
              "      <td>0</td>\n",
              "      <td>0</td>\n",
              "      <td>0</td>\n",
              "      <td>0</td>\n",
              "      <td>0</td>\n",
              "      <td>0</td>\n",
              "      <td>1</td>\n",
              "      <td>24</td>\n",
              "    </tr>\n",
              "    <tr>\n",
              "      <th>350</th>\n",
              "      <td>23</td>\n",
              "      <td>0</td>\n",
              "      <td>1</td>\n",
              "      <td>0</td>\n",
              "      <td>0</td>\n",
              "      <td>1236</td>\n",
              "      <td>0</td>\n",
              "      <td>0</td>\n",
              "      <td>0</td>\n",
              "      <td>0</td>\n",
              "      <td>0</td>\n",
              "      <td>1</td>\n",
              "      <td>0</td>\n",
              "      <td>0</td>\n",
              "      <td>0</td>\n",
              "      <td>1</td>\n",
              "      <td>0</td>\n",
              "      <td>9</td>\n",
              "    </tr>\n",
              "  </tbody>\n",
              "</table>\n",
              "</div>"
            ],
            "text/plain": [
              "     Age  Job_1  Job_2  Job_3  Job_4  Credit amount  Purpose_1  Purpose_2  \\\n",
              "842   23      0      1      0      0           1943          0          0   \n",
              "68    37      0      1      0      0           1819          0          0   \n",
              "308   24      0      1      0      0           1237          0          0   \n",
              "881   48      0      1      0      0           9277          1          0   \n",
              "350   23      0      1      0      0           1236          0          0   \n",
              "\n",
              "     Purpose_3  Purpose_4  Purpose_5  Purpose_6  Purpose_7  Purpose_8  \\\n",
              "842          0          0          0          0          1          0   \n",
              "68           0          0          1          0          0          0   \n",
              "308          1          0          0          0          0          0   \n",
              "881          0          0          0          0          0          0   \n",
              "350          0          0          0          1          0          0   \n",
              "\n",
              "     Housing_1  Housing_2  Housing_3  Duration  \n",
              "842          1          0          0        18  \n",
              "68           0          0          1        36  \n",
              "308          1          0          0         8  \n",
              "881          0          0          1        24  \n",
              "350          0          1          0         9  "
            ]
          },
          "metadata": {},
          "execution_count": 44
        }
      ]
    },
    {
      "cell_type": "code",
      "metadata": {
        "colab": {
          "base_uri": "https://localhost:8080/"
        },
        "id": "4N9koDhY19D1",
        "outputId": "27156af1-3e0e-49c3-c89c-46216ca9910c"
      },
      "source": [
        "# Treinando a rede neural\n",
        "\n",
        "clf_RF = RandomForestClassifier() # Cria o objeto\n",
        "clf_RF.fit(X_train, y_train) # Aplica o treino nas variaveis"
      ],
      "execution_count": null,
      "outputs": [
        {
          "output_type": "execute_result",
          "data": {
            "text/plain": [
              "RandomForestClassifier()"
            ]
          },
          "metadata": {},
          "execution_count": 45
        }
      ]
    },
    {
      "cell_type": "code",
      "metadata": {
        "colab": {
          "base_uri": "https://localhost:8080/"
        },
        "id": "8eWuf3nA__Da",
        "outputId": "f75fe806-156d-45cf-b960-6d86e382f3c8"
      },
      "source": [
        ""
      ],
      "execution_count": null,
      "outputs": [
        {
          "output_type": "stream",
          "name": "stdout",
          "text": [
            "RandomForestClassifier()\n"
          ]
        }
      ]
    },
    {
      "cell_type": "code",
      "metadata": {
        "colab": {
          "base_uri": "https://localhost:8080/"
        },
        "id": "kZFlakUQ2whh",
        "outputId": "0b034c06-1e42-47a1-8024-8870bb3557bb"
      },
      "source": [
        "# Aplciar o teste\n",
        "\n",
        "y_pred = clf_RF.predict(X_test) # Executando o teste\n",
        "\n",
        "y_pred # Mostrar resultado do teste"
      ],
      "execution_count": null,
      "outputs": [
        {
          "output_type": "execute_result",
          "data": {
            "text/plain": [
              "array([0, 0, 0, 0, 1, 0, 0, 0, 0, 0, 0, 0, 0, 0, 0, 0, 0, 0, 0, 0, 0, 0,\n",
              "       1, 0, 0, 0, 1, 0, 0, 0, 0, 0, 0, 0, 0, 0, 0, 0, 0, 0, 0, 0, 1, 0,\n",
              "       0, 0, 0, 0, 1, 0, 0, 0, 0, 0, 0, 0, 0, 0, 0, 0, 1, 1, 1, 0, 0, 1,\n",
              "       0, 0, 0, 0, 0, 0, 0, 0, 0, 0, 1, 0, 0, 1, 0, 0, 0, 0, 0, 0, 0, 0,\n",
              "       0, 0, 0, 0, 0, 0, 0, 0, 0, 0, 0, 0, 0, 0, 0, 0, 0, 0, 0, 0, 0, 0,\n",
              "       0, 0, 0, 0, 0, 0, 0, 0, 0, 1, 1, 0, 0, 1, 0, 0, 0, 0, 0, 0, 0, 0,\n",
              "       0, 0, 1, 1, 0, 0, 0, 1, 0, 1, 0, 1, 0, 1, 0, 0, 0, 0, 0, 0, 0, 0,\n",
              "       0, 0, 0, 0, 1, 0, 1, 1, 0, 0, 1, 0, 1, 0, 0, 0, 0, 0, 0, 0, 1, 0,\n",
              "       0, 1, 0, 0, 0, 0, 0, 0, 0, 1, 0, 0, 0, 0, 1, 0, 0, 0, 0, 0, 0, 0,\n",
              "       0, 0, 0, 0, 0, 0, 1, 0, 0, 1, 0, 0, 0, 0, 0, 0, 0, 0, 0, 0, 0, 0,\n",
              "       0, 0, 0, 0, 1, 0, 0, 0, 1, 0, 0, 0, 0, 0, 1, 1, 0, 0, 0, 0, 0, 0,\n",
              "       0, 0, 0, 0, 0, 0, 1, 0, 0, 0, 0, 0, 0, 1, 0, 0, 0, 0, 1, 1, 0, 0,\n",
              "       0, 0, 1, 0, 1, 0, 0, 0, 0, 0, 0, 0, 1, 0, 0, 0, 0, 0, 1, 0, 0, 0,\n",
              "       0, 0, 0, 0, 0, 1, 0, 0, 0, 0, 0, 0, 0, 0, 0, 0, 1, 0, 1, 0, 1, 0,\n",
              "       0, 0, 0, 0, 0, 0, 0, 0, 1, 0, 1, 1, 0, 0, 0, 0, 0, 0, 0, 1, 0, 1,\n",
              "       0, 0, 1, 0, 1, 0, 0, 1, 0, 0, 0, 0, 0, 0, 0, 0, 0, 0, 0, 0, 1, 0,\n",
              "       0, 0, 0, 0, 1, 0, 0, 0, 1, 0, 1, 0, 0, 0, 0, 0, 0, 0, 0, 0, 0, 0,\n",
              "       0, 0, 0, 0, 0, 0, 1, 0, 0, 0, 0, 0, 0, 0, 0, 0, 0, 0, 0, 0, 0, 0,\n",
              "       0, 0, 0, 0, 0, 0, 0, 0, 0, 0, 0, 0, 1, 0, 0, 0, 0, 0, 0, 1, 0, 0,\n",
              "       0, 0, 0, 0, 0, 0, 0, 0, 0, 0, 0, 1, 0, 0, 0, 0, 0, 0, 0, 0, 0, 0,\n",
              "       0, 0, 1, 0, 0, 1, 1, 0, 0, 1, 1, 1, 0, 0, 0, 0, 0, 0, 0, 0, 0, 0,\n",
              "       0, 0, 0, 0, 1, 0, 0, 1, 0, 0, 0, 0, 0, 0, 0, 0, 0, 0, 0, 0, 0, 0,\n",
              "       1, 0, 0, 0, 0, 0, 0, 0, 1, 0, 0, 1, 0, 0, 0, 0])"
            ]
          },
          "metadata": {},
          "execution_count": 46
        }
      ]
    },
    {
      "cell_type": "code",
      "metadata": {
        "id": "krNKaXQe3cjR"
      },
      "source": [
        ""
      ],
      "execution_count": null,
      "outputs": []
    },
    {
      "cell_type": "code",
      "metadata": {
        "colab": {
          "base_uri": "https://localhost:8080/"
        },
        "id": "pk8XOna23ckc",
        "outputId": "cab0a3f7-80e5-46ff-f68c-92a42eb2ffdf"
      },
      "source": [
        "# Porcentagem de acertos no codigo\n",
        "\n",
        "from sklearn.metrics import accuracy_score\n",
        "\n",
        "print(\"Acurácia: \" + str(accuracy_score(y_test, y_pred)))  # quantidade de acertos do codigo\n",
        "\n",
        "from sklearn.metrics import f1_score\n",
        "\n",
        "print(\n",
        "    \"F1 Score: {}\".format(f1_score(y_test, y_pred))\n",
        ")  # indica poucos falsos positivos e falsos negativos, quanto mais próximo de 1, melhor"
      ],
      "execution_count": null,
      "outputs": [
        {
          "output_type": "stream",
          "name": "stdout",
          "text": [
            "Acurácia: 0.676\n",
            "F1 Score: 0.319327731092437\n"
          ]
        }
      ]
    },
    {
      "cell_type": "code",
      "metadata": {
        "colab": {
          "base_uri": "https://localhost:8080/"
        },
        "id": "cqhtA0vz4V81",
        "outputId": "43b7b471-f1f7-470e-e71b-966c8940b590"
      },
      "source": [
        "from sklearn.metrics import confusion_matrix\n",
        "\n",
        "print(\"Matriz de Confusão : \\n\" + str(confusion_matrix(y_test, y_pred))) # Mostrar a matrix de cunfusão, com acertos e erros"
      ],
      "execution_count": null,
      "outputs": [
        {
          "output_type": "stream",
          "name": "stdout",
          "text": [
            "Matriz de Confusão : \n",
            "[[300  36]\n",
            " [126  38]]\n"
          ]
        }
      ]
    },
    {
      "cell_type": "code",
      "metadata": {
        "colab": {
          "base_uri": "https://localhost:8080/"
        },
        "id": "n1OWh_kl49Ui",
        "outputId": "0418ef0e-33de-4d9d-f83f-d530f8c48713"
      },
      "source": [
        "tn, fp, fn, tp = confusion_matrix(y_test, y_pred).ravel()\n",
        "\n",
        "print(\"True Positive: \" + str(tp)) # Verdadeiro positivo\n",
        "print(\"True Negative: \" + str(tn)) # Verdadeiro Negativo\n",
        "print(\"False Positive: \" + str(fp)) # Falso positivo\n",
        "print(\"False Negative: \" + str(fn)) # Falso Negativo"
      ],
      "execution_count": null,
      "outputs": [
        {
          "output_type": "stream",
          "name": "stdout",
          "text": [
            "True Positive: 38\n",
            "True Negative: 300\n",
            "False Positive: 36\n",
            "False Negative: 126\n"
          ]
        }
      ]
    },
    {
      "cell_type": "code",
      "metadata": {
        "colab": {
          "base_uri": "https://localhost:8080/"
        },
        "id": "e6DmIuhB5zsr",
        "outputId": "87e7a1c9-389b-4756-c3cf-2ca5b390b443"
      },
      "source": [
        "tp / (tp + 27)"
      ],
      "execution_count": null,
      "outputs": [
        {
          "output_type": "execute_result",
          "data": {
            "text/plain": [
              "0.5846153846153846"
            ]
          },
          "metadata": {},
          "execution_count": 50
        }
      ]
    },
    {
      "cell_type": "code",
      "metadata": {
        "colab": {
          "base_uri": "https://localhost:8080/",
          "height": 390
        },
        "id": "w0nTUpQs6Zlp",
        "outputId": "ff25c5e0-c7b8-4b90-aeb9-6954b47dc6ab"
      },
      "source": [
        "# CURVA ROC: calcula fpr e tpr para vários limiares, Verificar a quantidade ce acertos e erros.\n",
        "from sklearn.metrics import roc_curve\n",
        "from sklearn.model_selection import cross_val_predict\n",
        "\n",
        "# probabilidades\n",
        "# probs = clf_RF.predict_proba(X_test)\n",
        "\n",
        "y_scores = cross_val_predict(clf_RF, X_test, y_test)\n",
        "\n",
        "# obtem fpr, tpr e limites\n",
        "fpr, tpr, thresholds = roc_curve(y_test, y_scores)\n",
        "\n",
        "\n",
        "def plot_roc_curve(fpr, tpr, label=None):\n",
        "    plt.plot(fpr, tpr, linewidth=2, label=label)\n",
        "    plt.plot([0, 1], [0, 1], \"k--\")\n",
        "    plt.axis([0, 1, 0, 1])\n",
        "    plt.xlabel(\"False Positive Rate\")\n",
        "    plt.ylabel(\"True Positive Rate\")\n",
        "\n",
        "\n",
        "plot_roc_curve(fpr, tpr)"
      ],
      "execution_count": null,
      "outputs": [
        {
          "output_type": "display_data",
          "data": {
            "image/png": "[encoded data removed]",
            "text/plain": [
              "<Figure size 600x400 with 1 Axes>"
            ]
          },
          "metadata": {}
        }
      ]
    },
    {
      "cell_type": "code",
      "metadata": {
        "colab": {
          "base_uri": "https://localhost:8080/"
        },
        "id": "oSdI8HrI6q6a",
        "outputId": "0bc77fd7-7134-4a07-c32c-22f90aedb426"
      },
      "source": [
        "clf_RF.feature_importances_"
      ],
      "execution_count": null,
      "outputs": [
        {
          "output_type": "execute_result",
          "data": {
            "text/plain": [
              "array([0.23779566, 0.02564421, 0.02647573, 0.02089376, 0.00453284,\n",
              "       0.30993694, 0.03237402, 0.0245569 , 0.01831194, 0.01693338,\n",
              "       0.0179573 , 0.00882156, 0.00917989, 0.00391021, 0.02077602,\n",
              "       0.01646932, 0.01399647, 0.19143386])"
            ]
          },
          "metadata": {},
          "execution_count": 52
        }
      ]
    },
    {
      "cell_type": "code",
      "metadata": {
        "colab": {
          "base_uri": "https://localhost:8080/"
        },
        "id": "la2TG2wj69Ok",
        "outputId": "74210a8d-c2a4-4feb-8808-f8f9b07ce0cb"
      },
      "source": [
        "#  Importancia das colunas\n",
        "feature_imp = pd.Series(clf_RF.feature_importances_, index=X_train.columns).sort_values(\n",
        "    ascending=False\n",
        ")\n",
        "feature_imp"
      ],
      "execution_count": null,
      "outputs": [
        {
          "output_type": "execute_result",
          "data": {
            "text/plain": [
              "Credit amount   0.31\n",
              "Age             0.24\n",
              "Duration        0.19\n",
              "Purpose_1       0.03\n",
              "Job_2           0.03\n",
              "Job_1           0.03\n",
              "Purpose_2       0.02\n",
              "Job_3           0.02\n",
              "Housing_1       0.02\n",
              "Purpose_3       0.02\n",
              "Purpose_5       0.02\n",
              "Purpose_4       0.02\n",
              "Housing_2       0.02\n",
              "Housing_3       0.01\n",
              "Purpose_7       0.01\n",
              "Purpose_6       0.01\n",
              "Job_4           0.00\n",
              "Purpose_8       0.00\n",
              "dtype: float64"
            ]
          },
          "metadata": {},
          "execution_count": 53
        }
      ]
    },
    {
      "cell_type": "code",
      "metadata": {
        "colab": {
          "base_uri": "https://localhost:8080/",
          "height": 561
        },
        "id": "6fBtza3F7HkL",
        "outputId": "73271c99-aced-4a0b-fcef-96c922fb0269"
      },
      "source": [
        "# Creating a bar plot // Visualizar a imporancia de cada coluna dentro da rede neural.\n",
        "_ = plt.figure(figsize=(10, 6))\n",
        "_ = sns.barplot(x=feature_imp, y=feature_imp.index)\n",
        "\n",
        "# Add labels to your graph\n",
        "_ = plt.xlabel(\"Feature Importance Score\")\n",
        "_ = plt.ylabel(\"Features\")\n",
        "_ = plt.title(\"Visualização da Importantancia de cada coluna\")\n",
        "_ = plt.savefig(\"rf_features.png\")"
      ],
      "execution_count": null,
      "outputs": [
        {
          "output_type": "display_data",
          "data": {
            "image/png": "[encoded data removed]",
            "text/plain": [
              "<Figure size 1000x600 with 1 Axes>"
            ]
          },
          "metadata": {}
        }
      ]
    },
    {
      "cell_type": "code",
      "metadata": {
        "colab": {
          "base_uri": "https://localhost:8080/"
        },
        "id": "b0a05P987ckM",
        "outputId": "feedc16c-1fc3-4fab-d852-3bba5ec12ed7"
      },
      "source": [
        "# Melhorando os modelos das arvores de decisão\n",
        "\n",
        "from sklearn.model_selection import RandomizedSearchCV\n",
        "from scipy.stats import uniform, truncnorm, randint\n",
        "\n",
        "# Tunando os hiperparâmetros:\n",
        "model_params = {\n",
        "    # randomly sample numbers from 4 to 204 estimators\n",
        "    \"n_estimators\": randint(4, 200),\n",
        "    # normally distributed max_features, with mean .25 stddev 0.1, bounded between 0 and 1\n",
        "    \"max_features\": truncnorm(a=0, b=1, loc=0.25, scale=0.1),\n",
        "    # uniform distribution from 0.01 to 0.2 (0.01 + 0.199)\n",
        "    \"min_samples_split\": uniform(0.01, 0.199),\n",
        "}\n",
        "\n",
        "# create random forest classifier model\n",
        "rf_model = RandomForestClassifier()\n",
        "\n",
        "# set up random search meta-estimator\n",
        "# this will train 100 models over 5 folds of cross validation (500 models total)\n",
        "clf = RandomizedSearchCV(rf_model, model_params, n_iter=100, cv=5, random_state=1) # aplicando 100 vezes para encontrar o melhor resultado de treino\n",
        "\n",
        "# train the random search meta-estimator to find the best model out of 100 candidates\n",
        "model = clf.fit(X_train, y_train)\n",
        "\n",
        "# print winning set of hyperparameters\n",
        "from pprint import pprint\n",
        "\n",
        "pprint(model.best_estimator_.get_params())"
      ],
      "execution_count": null,
      "outputs": [
        {
          "output_type": "stream",
          "name": "stdout",
          "text": [
            "{'bootstrap': True,\n",
            " 'ccp_alpha': 0.0,\n",
            " 'class_weight': None,\n",
            " 'criterion': 'gini',\n",
            " 'max_depth': None,\n",
            " 'max_features': 0.27496017185730115,\n",
            " 'max_leaf_nodes': None,\n",
            " 'max_samples': None,\n",
            " 'min_impurity_decrease': 0.0,\n",
            " 'min_samples_leaf': 1,\n",
            " 'min_samples_split': 0.056119934439745334,\n",
            " 'min_weight_fraction_leaf': 0.0,\n",
            " 'n_estimators': 49,\n",
            " 'n_jobs': None,\n",
            " 'oob_score': False,\n",
            " 'random_state': None,\n",
            " 'verbose': 0,\n",
            " 'warm_start': False}\n"
          ]
        }
      ]
    },
    {
      "cell_type": "code",
      "metadata": {
        "colab": {
          "base_uri": "https://localhost:8080/"
        },
        "id": "JExDYTMv8SlD",
        "outputId": "b05eb906-85d3-4e8a-b121-cec5a807a407"
      },
      "source": [
        "# Qual combinação de parâmetros trouxe melhor resultado:\n",
        "model.best_estimator_"
      ],
      "execution_count": null,
      "outputs": [
        {
          "output_type": "execute_result",
          "data": {
            "text/plain": [
              "RandomForestClassifier(max_features=0.27496017185730115,\n",
              "                       min_samples_split=0.056119934439745334, n_estimators=49)"
            ]
          },
          "metadata": {},
          "execution_count": 56
        }
      ]
    },
    {
      "cell_type": "code",
      "metadata": {
        "colab": {
          "base_uri": "https://localhost:8080/"
        },
        "id": "WrvRZ9gg8WRL",
        "outputId": "1918b5e2-b1ab-4b3c-bfc4-13ad312dd6bd"
      },
      "source": [
        "# Aplciando treino e teste com os melhores resultados\n",
        "\n",
        "clf_random = RandomForestClassifier(\n",
        "    max_features=0.3124639258611636,\n",
        "    min_samples_split=0.05068599769657197,\n",
        "    n_estimators=160,\n",
        ")\n",
        "\n",
        "clf_random.fit(X_train, y_train)"
      ],
      "execution_count": null,
      "outputs": [
        {
          "output_type": "execute_result",
          "data": {
            "text/plain": [
              "RandomForestClassifier(max_features=0.3124639258611636,\n",
              "                       min_samples_split=0.05068599769657197, n_estimators=160)"
            ]
          },
          "metadata": {},
          "execution_count": 57
        }
      ]
    },
    {
      "cell_type": "code",
      "metadata": {
        "colab": {
          "base_uri": "https://localhost:8080/"
        },
        "id": "gmnVg22r8sUP",
        "outputId": "c7a3603c-1a67-465a-85f4-95611238380b"
      },
      "source": [
        "# Nova taxa de acerto da arvore de decisão // analise a previsão se manteve em 67 % devido a base ser pequena\n",
        "\n",
        "y_pred_random = clf_random.predict(X_test)\n",
        "\n",
        "print(\"Acurácia: \" + str(accuracy_score(y_test, y_pred_random)))\n",
        "\n",
        "print(\"F1 Score: {}\".format(f1_score(y_test, y_pred_random)))"
      ],
      "execution_count": null,
      "outputs": [
        {
          "output_type": "stream",
          "name": "stdout",
          "text": [
            "Acurácia: 0.676\n",
            "F1 Score: 0.13829787234042554\n"
          ]
        }
      ]
    }
  ]
}